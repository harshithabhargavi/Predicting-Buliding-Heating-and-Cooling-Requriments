{
  "cells": [
    {
      "cell_type": "markdown",
      "metadata": {
        "id": "JZHldJKBpbaN"
      },
      "source": [
        "**IMPORTS**"
      ]
    },
    {
      "cell_type": "code",
      "execution_count": 1,
      "metadata": {
        "id": "nfG39kdNWDQd"
      },
      "outputs": [],
      "source": [
        "import numpy as np\n",
        "import pandas as pd\n",
        "import matplotlib.pyplot as plt\n",
        "import seaborn as sns\n",
        "\n",
        "pd.set_option('display.max_columns', None)\n",
        "pd.set_option('display.width', 500)\n",
        "pd.set_option('display.float_format', lambda x: '%.3f' % x)\n",
        "\n",
        "\n",
        "from sklearn.ensemble import RandomForestRegressor, VotingRegressor\n",
        "from sklearn.exceptions import ConvergenceWarning\n",
        "from sklearn.linear_model import LinearRegression, Ridge, RidgeCV, Lasso, ElasticNet\n",
        "from sklearn.neighbors import KNeighborsRegressor\n",
        "from sklearn.tree import DecisionTreeRegressor\n",
        "from xgboost import XGBRegressor\n",
        "from sklearn.preprocessing import LabelEncoder\n",
        "from sklearn.metrics import mean_squared_error\n",
        "from sklearn.linear_model import LinearRegression\n",
        "from sklearn.model_selection import train_test_split, cross_val_score, GridSearchCV, cross_validate\n",
        "\n",
        "import warnings\n",
        "warnings.simplefilter(action='ignore', category=FutureWarning)\n",
        "warnings.simplefilter(action=\"ignore\", category=ConvergenceWarning)"
      ]
    },
    {
      "cell_type": "markdown",
      "metadata": {
        "id": "9bGBcGeBpVoN"
      },
      "source": [
        "**IMPORTING** **DATASET**"
      ]
    },
    {
      "cell_type": "code",
      "execution_count": 3,
      "metadata": {
        "colab": {
          "base_uri": "https://localhost:8080/",
          "height": 206
        },
        "id": "h5on1w0BWNmV",
        "outputId": "6f7dc748-02da-4208-e51d-4e553c363b48"
      },
      "outputs": [
        {
          "output_type": "execute_result",
          "data": {
            "text/plain": [
              "     X1      X2      X3      X4    X5  X6    X7  X8     Y1     Y2\n",
              "0 0.980 514.500 294.000 110.250 7.000   2 0.000   0 15.550 21.330\n",
              "1 0.980 514.500 294.000 110.250 7.000   3 0.000   0 15.550 21.330\n",
              "2 0.980 514.500 294.000 110.250 7.000   4 0.000   0 15.550 21.330\n",
              "3 0.980 514.500 294.000 110.250 7.000   5 0.000   0 15.550 21.330\n",
              "4 0.900 563.500 318.500 122.500 7.000   2 0.000   0 20.840 28.280"
            ],
            "text/html": [
              "\n",
              "  <div id=\"df-7985c08a-cc31-48d2-85c8-3e9b3ca7d07d\" class=\"colab-df-container\">\n",
              "    <div>\n",
              "<style scoped>\n",
              "    .dataframe tbody tr th:only-of-type {\n",
              "        vertical-align: middle;\n",
              "    }\n",
              "\n",
              "    .dataframe tbody tr th {\n",
              "        vertical-align: top;\n",
              "    }\n",
              "\n",
              "    .dataframe thead th {\n",
              "        text-align: right;\n",
              "    }\n",
              "</style>\n",
              "<table border=\"1\" class=\"dataframe\">\n",
              "  <thead>\n",
              "    <tr style=\"text-align: right;\">\n",
              "      <th></th>\n",
              "      <th>X1</th>\n",
              "      <th>X2</th>\n",
              "      <th>X3</th>\n",
              "      <th>X4</th>\n",
              "      <th>X5</th>\n",
              "      <th>X6</th>\n",
              "      <th>X7</th>\n",
              "      <th>X8</th>\n",
              "      <th>Y1</th>\n",
              "      <th>Y2</th>\n",
              "    </tr>\n",
              "  </thead>\n",
              "  <tbody>\n",
              "    <tr>\n",
              "      <th>0</th>\n",
              "      <td>0.980</td>\n",
              "      <td>514.500</td>\n",
              "      <td>294.000</td>\n",
              "      <td>110.250</td>\n",
              "      <td>7.000</td>\n",
              "      <td>2</td>\n",
              "      <td>0.000</td>\n",
              "      <td>0</td>\n",
              "      <td>15.550</td>\n",
              "      <td>21.330</td>\n",
              "    </tr>\n",
              "    <tr>\n",
              "      <th>1</th>\n",
              "      <td>0.980</td>\n",
              "      <td>514.500</td>\n",
              "      <td>294.000</td>\n",
              "      <td>110.250</td>\n",
              "      <td>7.000</td>\n",
              "      <td>3</td>\n",
              "      <td>0.000</td>\n",
              "      <td>0</td>\n",
              "      <td>15.550</td>\n",
              "      <td>21.330</td>\n",
              "    </tr>\n",
              "    <tr>\n",
              "      <th>2</th>\n",
              "      <td>0.980</td>\n",
              "      <td>514.500</td>\n",
              "      <td>294.000</td>\n",
              "      <td>110.250</td>\n",
              "      <td>7.000</td>\n",
              "      <td>4</td>\n",
              "      <td>0.000</td>\n",
              "      <td>0</td>\n",
              "      <td>15.550</td>\n",
              "      <td>21.330</td>\n",
              "    </tr>\n",
              "    <tr>\n",
              "      <th>3</th>\n",
              "      <td>0.980</td>\n",
              "      <td>514.500</td>\n",
              "      <td>294.000</td>\n",
              "      <td>110.250</td>\n",
              "      <td>7.000</td>\n",
              "      <td>5</td>\n",
              "      <td>0.000</td>\n",
              "      <td>0</td>\n",
              "      <td>15.550</td>\n",
              "      <td>21.330</td>\n",
              "    </tr>\n",
              "    <tr>\n",
              "      <th>4</th>\n",
              "      <td>0.900</td>\n",
              "      <td>563.500</td>\n",
              "      <td>318.500</td>\n",
              "      <td>122.500</td>\n",
              "      <td>7.000</td>\n",
              "      <td>2</td>\n",
              "      <td>0.000</td>\n",
              "      <td>0</td>\n",
              "      <td>20.840</td>\n",
              "      <td>28.280</td>\n",
              "    </tr>\n",
              "  </tbody>\n",
              "</table>\n",
              "</div>\n",
              "    <div class=\"colab-df-buttons\">\n",
              "\n",
              "  <div class=\"colab-df-container\">\n",
              "    <button class=\"colab-df-convert\" onclick=\"convertToInteractive('df-7985c08a-cc31-48d2-85c8-3e9b3ca7d07d')\"\n",
              "            title=\"Convert this dataframe to an interactive table.\"\n",
              "            style=\"display:none;\">\n",
              "\n",
              "  <svg xmlns=\"http://www.w3.org/2000/svg\" height=\"24px\" viewBox=\"0 -960 960 960\">\n",
              "    <path d=\"M120-120v-720h720v720H120Zm60-500h600v-160H180v160Zm220 220h160v-160H400v160Zm0 220h160v-160H400v160ZM180-400h160v-160H180v160Zm440 0h160v-160H620v160ZM180-180h160v-160H180v160Zm440 0h160v-160H620v160Z\"/>\n",
              "  </svg>\n",
              "    </button>\n",
              "\n",
              "  <style>\n",
              "    .colab-df-container {\n",
              "      display:flex;\n",
              "      gap: 12px;\n",
              "    }\n",
              "\n",
              "    .colab-df-convert {\n",
              "      background-color: #E8F0FE;\n",
              "      border: none;\n",
              "      border-radius: 50%;\n",
              "      cursor: pointer;\n",
              "      display: none;\n",
              "      fill: #1967D2;\n",
              "      height: 32px;\n",
              "      padding: 0 0 0 0;\n",
              "      width: 32px;\n",
              "    }\n",
              "\n",
              "    .colab-df-convert:hover {\n",
              "      background-color: #E2EBFA;\n",
              "      box-shadow: 0px 1px 2px rgba(60, 64, 67, 0.3), 0px 1px 3px 1px rgba(60, 64, 67, 0.15);\n",
              "      fill: #174EA6;\n",
              "    }\n",
              "\n",
              "    .colab-df-buttons div {\n",
              "      margin-bottom: 4px;\n",
              "    }\n",
              "\n",
              "    [theme=dark] .colab-df-convert {\n",
              "      background-color: #3B4455;\n",
              "      fill: #D2E3FC;\n",
              "    }\n",
              "\n",
              "    [theme=dark] .colab-df-convert:hover {\n",
              "      background-color: #434B5C;\n",
              "      box-shadow: 0px 1px 3px 1px rgba(0, 0, 0, 0.15);\n",
              "      filter: drop-shadow(0px 1px 2px rgba(0, 0, 0, 0.3));\n",
              "      fill: #FFFFFF;\n",
              "    }\n",
              "  </style>\n",
              "\n",
              "    <script>\n",
              "      const buttonEl =\n",
              "        document.querySelector('#df-7985c08a-cc31-48d2-85c8-3e9b3ca7d07d button.colab-df-convert');\n",
              "      buttonEl.style.display =\n",
              "        google.colab.kernel.accessAllowed ? 'block' : 'none';\n",
              "\n",
              "      async function convertToInteractive(key) {\n",
              "        const element = document.querySelector('#df-7985c08a-cc31-48d2-85c8-3e9b3ca7d07d');\n",
              "        const dataTable =\n",
              "          await google.colab.kernel.invokeFunction('convertToInteractive',\n",
              "                                                    [key], {});\n",
              "        if (!dataTable) return;\n",
              "\n",
              "        const docLinkHtml = 'Like what you see? Visit the ' +\n",
              "          '<a target=\"_blank\" href=https://colab.research.google.com/notebooks/data_table.ipynb>data table notebook</a>'\n",
              "          + ' to learn more about interactive tables.';\n",
              "        element.innerHTML = '';\n",
              "        dataTable['output_type'] = 'display_data';\n",
              "        await google.colab.output.renderOutput(dataTable, element);\n",
              "        const docLink = document.createElement('div');\n",
              "        docLink.innerHTML = docLinkHtml;\n",
              "        element.appendChild(docLink);\n",
              "      }\n",
              "    </script>\n",
              "  </div>\n",
              "\n",
              "\n",
              "    <div id=\"df-dcec0602-206a-49fd-9d38-2233c25484c8\">\n",
              "      <button class=\"colab-df-quickchart\" onclick=\"quickchart('df-dcec0602-206a-49fd-9d38-2233c25484c8')\"\n",
              "                title=\"Suggest charts\"\n",
              "                style=\"display:none;\">\n",
              "\n",
              "<svg xmlns=\"http://www.w3.org/2000/svg\" height=\"24px\"viewBox=\"0 0 24 24\"\n",
              "     width=\"24px\">\n",
              "    <g>\n",
              "        <path d=\"M19 3H5c-1.1 0-2 .9-2 2v14c0 1.1.9 2 2 2h14c1.1 0 2-.9 2-2V5c0-1.1-.9-2-2-2zM9 17H7v-7h2v7zm4 0h-2V7h2v10zm4 0h-2v-4h2v4z\"/>\n",
              "    </g>\n",
              "</svg>\n",
              "      </button>\n",
              "\n",
              "<style>\n",
              "  .colab-df-quickchart {\n",
              "      --bg-color: #E8F0FE;\n",
              "      --fill-color: #1967D2;\n",
              "      --hover-bg-color: #E2EBFA;\n",
              "      --hover-fill-color: #174EA6;\n",
              "      --disabled-fill-color: #AAA;\n",
              "      --disabled-bg-color: #DDD;\n",
              "  }\n",
              "\n",
              "  [theme=dark] .colab-df-quickchart {\n",
              "      --bg-color: #3B4455;\n",
              "      --fill-color: #D2E3FC;\n",
              "      --hover-bg-color: #434B5C;\n",
              "      --hover-fill-color: #FFFFFF;\n",
              "      --disabled-bg-color: #3B4455;\n",
              "      --disabled-fill-color: #666;\n",
              "  }\n",
              "\n",
              "  .colab-df-quickchart {\n",
              "    background-color: var(--bg-color);\n",
              "    border: none;\n",
              "    border-radius: 50%;\n",
              "    cursor: pointer;\n",
              "    display: none;\n",
              "    fill: var(--fill-color);\n",
              "    height: 32px;\n",
              "    padding: 0;\n",
              "    width: 32px;\n",
              "  }\n",
              "\n",
              "  .colab-df-quickchart:hover {\n",
              "    background-color: var(--hover-bg-color);\n",
              "    box-shadow: 0 1px 2px rgba(60, 64, 67, 0.3), 0 1px 3px 1px rgba(60, 64, 67, 0.15);\n",
              "    fill: var(--button-hover-fill-color);\n",
              "  }\n",
              "\n",
              "  .colab-df-quickchart-complete:disabled,\n",
              "  .colab-df-quickchart-complete:disabled:hover {\n",
              "    background-color: var(--disabled-bg-color);\n",
              "    fill: var(--disabled-fill-color);\n",
              "    box-shadow: none;\n",
              "  }\n",
              "\n",
              "  .colab-df-spinner {\n",
              "    border: 2px solid var(--fill-color);\n",
              "    border-color: transparent;\n",
              "    border-bottom-color: var(--fill-color);\n",
              "    animation:\n",
              "      spin 1s steps(1) infinite;\n",
              "  }\n",
              "\n",
              "  @keyframes spin {\n",
              "    0% {\n",
              "      border-color: transparent;\n",
              "      border-bottom-color: var(--fill-color);\n",
              "      border-left-color: var(--fill-color);\n",
              "    }\n",
              "    20% {\n",
              "      border-color: transparent;\n",
              "      border-left-color: var(--fill-color);\n",
              "      border-top-color: var(--fill-color);\n",
              "    }\n",
              "    30% {\n",
              "      border-color: transparent;\n",
              "      border-left-color: var(--fill-color);\n",
              "      border-top-color: var(--fill-color);\n",
              "      border-right-color: var(--fill-color);\n",
              "    }\n",
              "    40% {\n",
              "      border-color: transparent;\n",
              "      border-right-color: var(--fill-color);\n",
              "      border-top-color: var(--fill-color);\n",
              "    }\n",
              "    60% {\n",
              "      border-color: transparent;\n",
              "      border-right-color: var(--fill-color);\n",
              "    }\n",
              "    80% {\n",
              "      border-color: transparent;\n",
              "      border-right-color: var(--fill-color);\n",
              "      border-bottom-color: var(--fill-color);\n",
              "    }\n",
              "    90% {\n",
              "      border-color: transparent;\n",
              "      border-bottom-color: var(--fill-color);\n",
              "    }\n",
              "  }\n",
              "</style>\n",
              "\n",
              "      <script>\n",
              "        async function quickchart(key) {\n",
              "          const quickchartButtonEl =\n",
              "            document.querySelector('#' + key + ' button');\n",
              "          quickchartButtonEl.disabled = true;  // To prevent multiple clicks.\n",
              "          quickchartButtonEl.classList.add('colab-df-spinner');\n",
              "          try {\n",
              "            const charts = await google.colab.kernel.invokeFunction(\n",
              "                'suggestCharts', [key], {});\n",
              "          } catch (error) {\n",
              "            console.error('Error during call to suggestCharts:', error);\n",
              "          }\n",
              "          quickchartButtonEl.classList.remove('colab-df-spinner');\n",
              "          quickchartButtonEl.classList.add('colab-df-quickchart-complete');\n",
              "        }\n",
              "        (() => {\n",
              "          let quickchartButtonEl =\n",
              "            document.querySelector('#df-dcec0602-206a-49fd-9d38-2233c25484c8 button');\n",
              "          quickchartButtonEl.style.display =\n",
              "            google.colab.kernel.accessAllowed ? 'block' : 'none';\n",
              "        })();\n",
              "      </script>\n",
              "    </div>\n",
              "\n",
              "    </div>\n",
              "  </div>\n"
            ],
            "application/vnd.google.colaboratory.intrinsic+json": {
              "type": "dataframe",
              "variable_name": "df",
              "summary": "{\n  \"name\": \"df\",\n  \"rows\": 768,\n  \"fields\": [\n    {\n      \"column\": \"X1\",\n      \"properties\": {\n        \"dtype\": \"number\",\n        \"std\": 0.10577747587475206,\n        \"min\": 0.62,\n        \"max\": 0.98,\n        \"num_unique_values\": 12,\n        \"samples\": [\n          0.64,\n          0.66,\n          0.98\n        ],\n        \"semantic_type\": \"\",\n        \"description\": \"\"\n      }\n    },\n    {\n      \"column\": \"X2\",\n      \"properties\": {\n        \"dtype\": \"number\",\n        \"std\": 88.08611605586826,\n        \"min\": 514.5,\n        \"max\": 808.5,\n        \"num_unique_values\": 12,\n        \"samples\": [\n          784.0,\n          759.5,\n          514.5\n        ],\n        \"semantic_type\": \"\",\n        \"description\": \"\"\n      }\n    },\n    {\n      \"column\": \"X3\",\n      \"properties\": {\n        \"dtype\": \"number\",\n        \"std\": 43.6264814379949,\n        \"min\": 245.0,\n        \"max\": 416.5,\n        \"num_unique_values\": 7,\n        \"samples\": [\n          294.0,\n          318.5,\n          269.5\n        ],\n        \"semantic_type\": \"\",\n        \"description\": \"\"\n      }\n    },\n    {\n      \"column\": \"X4\",\n      \"properties\": {\n        \"dtype\": \"number\",\n        \"std\": 45.165950222920344,\n        \"min\": 110.25,\n        \"max\": 220.5,\n        \"num_unique_values\": 4,\n        \"samples\": [\n          122.5,\n          220.5,\n          110.25\n        ],\n        \"semantic_type\": \"\",\n        \"description\": \"\"\n      }\n    },\n    {\n      \"column\": \"X5\",\n      \"properties\": {\n        \"dtype\": \"number\",\n        \"std\": 1.7511404367453496,\n        \"min\": 3.5,\n        \"max\": 7.0,\n        \"num_unique_values\": 2,\n        \"samples\": [\n          3.5,\n          7.0\n        ],\n        \"semantic_type\": \"\",\n        \"description\": \"\"\n      }\n    },\n    {\n      \"column\": \"X6\",\n      \"properties\": {\n        \"dtype\": \"number\",\n        \"std\": 1,\n        \"min\": 2,\n        \"max\": 5,\n        \"num_unique_values\": 4,\n        \"samples\": [\n          3,\n          5\n        ],\n        \"semantic_type\": \"\",\n        \"description\": \"\"\n      }\n    },\n    {\n      \"column\": \"X7\",\n      \"properties\": {\n        \"dtype\": \"number\",\n        \"std\": 0.13322056291470877,\n        \"min\": 0.0,\n        \"max\": 0.4,\n        \"num_unique_values\": 4,\n        \"samples\": [\n          0.1,\n          0.4\n        ],\n        \"semantic_type\": \"\",\n        \"description\": \"\"\n      }\n    },\n    {\n      \"column\": \"X8\",\n      \"properties\": {\n        \"dtype\": \"number\",\n        \"std\": 1,\n        \"min\": 0,\n        \"max\": 5,\n        \"num_unique_values\": 6,\n        \"samples\": [\n          0,\n          1\n        ],\n        \"semantic_type\": \"\",\n        \"description\": \"\"\n      }\n    },\n    {\n      \"column\": \"Y1\",\n      \"properties\": {\n        \"dtype\": \"number\",\n        \"std\": 10.090195732006162,\n        \"min\": 6.01,\n        \"max\": 43.1,\n        \"num_unique_values\": 586,\n        \"samples\": [\n          16.47,\n          24.94\n        ],\n        \"semantic_type\": \"\",\n        \"description\": \"\"\n      }\n    },\n    {\n      \"column\": \"Y2\",\n      \"properties\": {\n        \"dtype\": \"number\",\n        \"std\": 9.513305562326163,\n        \"min\": 10.9,\n        \"max\": 48.03,\n        \"num_unique_values\": 636,\n        \"samples\": [\n          21.09,\n          20.82\n        ],\n        \"semantic_type\": \"\",\n        \"description\": \"\"\n      }\n    }\n  ]\n}"
            }
          },
          "metadata": {},
          "execution_count": 3
        }
      ],
      "source": [
        "df = pd.read_csv(\"/content/ENB2012_data.csv\")\n",
        "df.head()"
      ]
    },
    {
      "cell_type": "markdown",
      "metadata": {
        "id": "-kFFwXlYpp9-"
      },
      "source": [
        "**GENERAL** **INFORMATION**"
      ]
    },
    {
      "cell_type": "code",
      "execution_count": 4,
      "metadata": {
        "id": "Td05rHA6X90n"
      },
      "outputs": [],
      "source": [
        "def check_df(dataframe,head=5):\n",
        "  print(\"######################### Head #########################\")\n",
        "  print(dataframe.head(head))\n",
        "  print(\"######################### Tail #########################\")\n",
        "  print(dataframe.tail(head))\n",
        "  print(\"######################### Shape #########################\")\n",
        "  print(dataframe.shape)\n",
        "  print(\"######################### Types #########################\")\n",
        "  print(dataframe.dtypes)\n",
        "  print(\"######################### NA #########################\")\n",
        "  print(dataframe.isnull().sum())\n",
        "  print(\"######################### Qurtiles #########################\")\n",
        "  print(dataframe.describe([0, 0.05, 0.50, 0.95, 0.99, 1]).T)"
      ]
    },
    {
      "cell_type": "code",
      "execution_count": 5,
      "metadata": {
        "colab": {
          "base_uri": "https://localhost:8080/"
        },
        "id": "BEBab_1qYBQM",
        "outputId": "cc8a2323-398e-45ab-a1f2-9cbd3b140617"
      },
      "outputs": [
        {
          "output_type": "stream",
          "name": "stdout",
          "text": [
            "######################### Head #########################\n",
            "     X1      X2      X3      X4    X5  X6    X7  X8     Y1     Y2\n",
            "0 0.980 514.500 294.000 110.250 7.000   2 0.000   0 15.550 21.330\n",
            "1 0.980 514.500 294.000 110.250 7.000   3 0.000   0 15.550 21.330\n",
            "2 0.980 514.500 294.000 110.250 7.000   4 0.000   0 15.550 21.330\n",
            "3 0.980 514.500 294.000 110.250 7.000   5 0.000   0 15.550 21.330\n",
            "4 0.900 563.500 318.500 122.500 7.000   2 0.000   0 20.840 28.280\n",
            "######################### Tail #########################\n",
            "       X1      X2      X3      X4    X5  X6    X7  X8     Y1     Y2\n",
            "763 0.640 784.000 343.000 220.500 3.500   5 0.400   5 17.880 21.400\n",
            "764 0.620 808.500 367.500 220.500 3.500   2 0.400   5 16.540 16.880\n",
            "765 0.620 808.500 367.500 220.500 3.500   3 0.400   5 16.440 17.110\n",
            "766 0.620 808.500 367.500 220.500 3.500   4 0.400   5 16.480 16.610\n",
            "767 0.620 808.500 367.500 220.500 3.500   5 0.400   5 16.640 16.030\n",
            "######################### Shape #########################\n",
            "(768, 10)\n",
            "######################### Types #########################\n",
            "X1    float64\n",
            "X2    float64\n",
            "X3    float64\n",
            "X4    float64\n",
            "X5    float64\n",
            "X6      int64\n",
            "X7    float64\n",
            "X8      int64\n",
            "Y1    float64\n",
            "Y2    float64\n",
            "dtype: object\n",
            "######################### NA #########################\n",
            "X1    0\n",
            "X2    0\n",
            "X3    0\n",
            "X4    0\n",
            "X5    0\n",
            "X6    0\n",
            "X7    0\n",
            "X8    0\n",
            "Y1    0\n",
            "Y2    0\n",
            "dtype: int64\n",
            "######################### Qurtiles #########################\n",
            "     count    mean    std     min      0%      5%     50%     95%     99%    100%     max\n",
            "X1 768.000   0.764  0.106   0.620   0.620   0.620   0.750   0.980   0.980   0.980   0.980\n",
            "X2 768.000 671.708 88.086 514.500 514.500 514.500 673.750 808.500 808.500 808.500 808.500\n",
            "X3 768.000 318.500 43.626 245.000 245.000 245.000 318.500 416.500 416.500 416.500 416.500\n",
            "X4 768.000 176.604 45.166 110.250 110.250 110.250 183.750 220.500 220.500 220.500 220.500\n",
            "X5 768.000   5.250  1.751   3.500   3.500   3.500   5.250   7.000   7.000   7.000   7.000\n",
            "X6 768.000   3.500  1.119   2.000   2.000   2.000   3.500   5.000   5.000   5.000   5.000\n",
            "X7 768.000   0.234  0.133   0.000   0.000   0.000   0.250   0.400   0.400   0.400   0.400\n",
            "X8 768.000   2.812  1.551   0.000   0.000   0.000   3.000   5.000   5.000   5.000   5.000\n",
            "Y1 768.000  22.307 10.090   6.010   6.010  10.464  18.950  39.860  42.090  43.100  43.100\n",
            "Y2 768.000  24.588  9.513  10.900  10.900  13.617  22.080  40.037  45.543  48.030  48.030\n"
          ]
        }
      ],
      "source": [
        "check_df(df)"
      ]
    },
    {
      "cell_type": "markdown",
      "metadata": {
        "id": "8xbLjJTDp3sz"
      },
      "source": [
        "**CATEGIRICAL** **VARIABLE** **ANALYSIS**"
      ]
    },
    {
      "cell_type": "code",
      "execution_count": 6,
      "metadata": {
        "id": "7GJfWYCkYFOM"
      },
      "outputs": [],
      "source": [
        "def grab_col_names(dataframe, cat_th=15, car_th=20):\n",
        "  #Catgeorical Variable Selection\n",
        "  cat_cols = [col for col in dataframe.columns if str(dataframe[col].dtypes) in [\"category\",\"object\",\"bool\"]]\n",
        "  num_but_cat = [col for col in dataframe.columns if dataframe[col].nunique() < cat_th and dataframe[col].dtypes in [\"uint8\",\"int64\",\"float64\"]]\n",
        "  cat_but_car = [col for col in dataframe.columns if dataframe[col].nunique() > car_th and str(dataframe[col].dtypes) in [\"category\",\"object\"]]\n",
        "  cat_cols = cat_cols + num_but_cat\n",
        "  cat_cols = [col for col in cat_cols if col not in cat_but_car]\n",
        "\n",
        "  #Numerical Variable Selection\n",
        "  num_cols = [col for col in dataframe.columns if dataframe[col].dtypes in [\"uint8\",\"int64\",\"float64\"]]\n",
        "  num_cols = [col for col in num_cols if col not in cat_cols]\n",
        "\n",
        "  return cat_cols, num_cols, cat_but_car, num_but_cat"
      ]
    },
    {
      "cell_type": "code",
      "execution_count": null,
      "metadata": {
        "colab": {
          "base_uri": "https://localhost:8080/"
        },
        "id": "V19b_NnLYKsk",
        "outputId": "07e8b2eb-b08e-49d7-acfe-a13f16f39f9d"
      },
      "outputs": [
        {
          "name": "stdout",
          "output_type": "stream",
          "text": [
            "Observations: 768\n",
            "Variables: 10\n",
            "Cat_cols: 8\n",
            "Num_cols: 2\n",
            "Cat_but_car: 0\n",
            "num_but_cat: 8\n"
          ]
        }
      ],
      "source": [
        "cat_cols, num_cols, cat_but_car, num_but_cat = grab_col_names(df)\n",
        "\n",
        "#Print Categorical and Numerical Variables\n",
        "print(f\"Observations: {df.shape[0]}\")\n",
        "print(f\"Variables: {df.shape[1]}\")\n",
        "print(f\"Cat_cols: {len(cat_cols)}\")\n",
        "print(f\"Num_cols: {len(num_cols)}\")\n",
        "print(f\"Cat_but_car: {len(cat_but_car)}\")\n",
        "print(f\"num_but_cat: {len(num_but_cat)}\")"
      ]
    },
    {
      "cell_type": "code",
      "execution_count": 7,
      "metadata": {
        "id": "2_7kCwWjYR_d"
      },
      "outputs": [],
      "source": [
        "def cat_summary(dataframe,col_name,plot=False):\n",
        "  print(pd.DataFrame({col_name: dataframe[col_name].value_counts(),\n",
        "                      'Ration': 100 * dataframe[col_name].value_counts() / len(dataframe)}))\n",
        "  print(\"##########################################\")\n",
        "  if plot:\n",
        "    sns.countplot(x=dataframe[col_name],data=dataframe)\n",
        "    plt.show(block=True)"
      ]
    },
    {
      "cell_type": "code",
      "execution_count": 8,
      "metadata": {
        "id": "YcpgSOjxYTcc"
      },
      "outputs": [],
      "source": [
        "def cat_summary_df(dataframe):\n",
        "  cat_cols, num_cols, cat_but_car, num_but_cat = grab_col_names(df)\n",
        "  for col in cat_cols:\n",
        "    cat_summary(dataframe, col, plot=True)"
      ]
    },
    {
      "cell_type": "code",
      "execution_count": null,
      "metadata": {
        "colab": {
          "base_uri": "https://localhost:8080/",
          "height": 1000
        },
        "id": "CcvY48inYX6F",
        "outputId": "4d5a6343-c181-40b2-bc19-5f5e6033ec41"
      },
      "outputs": [
        {
          "name": "stdout",
          "output_type": "stream",
          "text": [
            "       X1  Ration\n",
            "X1               \n",
            "0.980  64   8.333\n",
            "0.900  64   8.333\n",
            "0.860  64   8.333\n",
            "0.820  64   8.333\n",
            "0.790  64   8.333\n",
            "0.760  64   8.333\n",
            "0.740  64   8.333\n",
            "0.710  64   8.333\n",
            "0.690  64   8.333\n",
            "0.660  64   8.333\n",
            "0.640  64   8.333\n",
            "0.620  64   8.333\n",
            "##########################################\n"
          ]
        },
        {
          "data": {
            "image/png": "[encoded data removed]",
            "text/plain": [
              "<Figure size 640x480 with 1 Axes>"
            ]
          },
          "metadata": {},
          "output_type": "display_data"
        },
        {
          "name": "stdout",
          "output_type": "stream",
          "text": [
            "         X2  Ration\n",
            "X2                 \n",
            "514.500  64   8.333\n",
            "563.500  64   8.333\n",
            "588.000  64   8.333\n",
            "612.500  64   8.333\n",
            "637.000  64   8.333\n",
            "661.500  64   8.333\n",
            "686.000  64   8.333\n",
            "710.500  64   8.333\n",
            "735.000  64   8.333\n",
            "759.500  64   8.333\n",
            "784.000  64   8.333\n",
            "808.500  64   8.333\n",
            "##########################################\n"
          ]
        },
        {
          "data": {
            "image/png": "[encoded data removed]",
            "text/plain": [
              "<Figure size 640x480 with 1 Axes>"
            ]
          },
          "metadata": {},
          "output_type": "display_data"
        },
        {
          "name": "stdout",
          "output_type": "stream",
          "text": [
            "          X3  Ration\n",
            "X3                  \n",
            "294.000  192  25.000\n",
            "318.500  192  25.000\n",
            "343.000  128  16.667\n",
            "416.500   64   8.333\n",
            "245.000   64   8.333\n",
            "269.500   64   8.333\n",
            "367.500   64   8.333\n",
            "##########################################\n"
          ]
        },
        {
          "data": {
            "image/png": "[encoded data removed]",
            "text/plain": [
              "<Figure size 640x480 with 1 Axes>"
            ]
          },
          "metadata": {},
          "output_type": "display_data"
        },
        {
          "name": "stdout",
          "output_type": "stream",
          "text": [
            "          X4  Ration\n",
            "X4                  \n",
            "220.500  384  50.000\n",
            "147.000  192  25.000\n",
            "122.500  128  16.667\n",
            "110.250   64   8.333\n",
            "##########################################\n"
          ]
        },
        {
          "data": {
            "image/png": "[encoded data removed]",
            "text/plain": [
              "<Figure size 640x480 with 1 Axes>"
            ]
          },
          "metadata": {},
          "output_type": "display_data"
        },
        {
          "name": "stdout",
          "output_type": "stream",
          "text": [
            "        X5  Ration\n",
            "X5                \n",
            "7.000  384  50.000\n",
            "3.500  384  50.000\n",
            "##########################################\n"
          ]
        },
        {
          "data": {
            "image/png": "[encoded data removed]",
            "text/plain": [
              "<Figure size 640x480 with 1 Axes>"
            ]
          },
          "metadata": {},
          "output_type": "display_data"
        },
        {
          "name": "stdout",
          "output_type": "stream",
          "text": [
            "     X6  Ration\n",
            "X6             \n",
            "2   192  25.000\n",
            "3   192  25.000\n",
            "4   192  25.000\n",
            "5   192  25.000\n",
            "##########################################\n"
          ]
        },
        {
          "data": {
            "image/png": "[encoded data removed]",
            "text/plain": [
              "<Figure size 640x480 with 1 Axes>"
            ]
          },
          "metadata": {},
          "output_type": "display_data"
        },
        {
          "name": "stdout",
          "output_type": "stream",
          "text": [
            "        X7  Ration\n",
            "X7                \n",
            "0.100  240  31.250\n",
            "0.250  240  31.250\n",
            "0.400  240  31.250\n",
            "0.000   48   6.250\n",
            "##########################################\n"
          ]
        },
        {
          "data": {
            "image/png": "[encoded data removed]",
            "text/plain": [
              "<Figure size 640x480 with 1 Axes>"
            ]
          },
          "metadata": {},
          "output_type": "display_data"
        },
        {
          "name": "stdout",
          "output_type": "stream",
          "text": [
            "     X8  Ration\n",
            "X8             \n",
            "1   144  18.750\n",
            "2   144  18.750\n",
            "3   144  18.750\n",
            "4   144  18.750\n",
            "5   144  18.750\n",
            "0    48   6.250\n",
            "##########################################\n"
          ]
        },
        {
          "data": {
            "image/png": "[encoded data removed]",
            "text/plain": [
              "<Figure size 640x480 with 1 Axes>"
            ]
          },
          "metadata": {},
          "output_type": "display_data"
        }
      ],
      "source": [
        "cat_summary_df(df)"
      ]
    },
    {
      "cell_type": "markdown",
      "metadata": {
        "id": "sKSJD_C6qGUb"
      },
      "source": [
        "**NUMERICAL** **VARIABLE** **ANALYSIS**"
      ]
    },
    {
      "cell_type": "code",
      "execution_count": 9,
      "metadata": {
        "id": "uCBjcwadYjde"
      },
      "outputs": [],
      "source": [
        "def num_summary(dataframe, num_col, plot=False):\n",
        "  quantiles = [0.01, 0.05, 0.10, 0.20, 0.30, 0.40, 0.50, 0.60, 0.70, 0.80, 0.90, 0.95, 0.99]\n",
        "  print(dataframe[num_col].describe(quantiles).T)\n",
        "\n",
        "  if plot:\n",
        "    dataframe[num_col].hist(bins=20)\n",
        "    plt.xlabel(num_col)\n",
        "    plt.title(num_col)\n",
        "    plt.show(block=True)"
      ]
    },
    {
      "cell_type": "code",
      "execution_count": 10,
      "metadata": {
        "id": "Pg1W9A87YoQN"
      },
      "outputs": [],
      "source": [
        "def num_summary_df(dataframe):\n",
        "  cat_cols, num_cols, cat_but_car, num_but_cat = grab_col_names(df)\n",
        "  for col in num_cols:\n",
        "    num_summary(dataframe, col, plot=True)"
      ]
    },
    {
      "cell_type": "code",
      "execution_count": 11,
      "metadata": {
        "colab": {
          "base_uri": "https://localhost:8080/",
          "height": 1000
        },
        "id": "fM_Nr0EwYrnV",
        "outputId": "899b4b80-4d32-48f6-8391-8b62231558da"
      },
      "outputs": [
        {
          "output_type": "stream",
          "name": "stdout",
          "text": [
            "count   768.000\n",
            "mean     22.307\n",
            "std      10.090\n",
            "min       6.010\n",
            "1%        6.648\n",
            "5%       10.464\n",
            "10%      11.217\n",
            "20%      12.630\n",
            "30%      14.320\n",
            "40%      15.230\n",
            "50%      18.950\n",
            "60%      25.668\n",
            "70%      29.089\n",
            "80%      32.508\n",
            "90%      36.703\n",
            "95%      39.860\n",
            "99%      42.090\n",
            "max      43.100\n",
            "Name: Y1, dtype: float64\n"
          ]
        },
        {
          "output_type": "display_data",
          "data": {
            "text/plain": [
              "<Figure size 640x480 with 1 Axes>"
            ],
            "image/png": "[encoded data removed]"
          },
          "metadata": {}
        },
        {
          "output_type": "stream",
          "name": "stdout",
          "text": [
            "count   768.000\n",
            "mean     24.588\n",
            "std       9.513\n",
            "min      10.900\n",
            "1%       11.727\n",
            "5%       13.617\n",
            "10%      14.237\n",
            "20%      15.116\n",
            "30%      16.278\n",
            "40%      17.720\n",
            "50%      22.080\n",
            "60%      28.286\n",
            "70%      31.263\n",
            "80%      34.062\n",
            "90%      37.422\n",
            "95%      40.037\n",
            "99%      45.543\n",
            "max      48.030\n",
            "Name: Y2, dtype: float64\n"
          ]
        },
        {
          "output_type": "display_data",
          "data": {
            "text/plain": [
              "<Figure size 640x480 with 1 Axes>"
            ],
            "image/png": "[encoded data removed]"
          },
          "metadata": {}
        }
      ],
      "source": [
        "\n",
        "num_summary_df(df)"
      ]
    },
    {
      "cell_type": "code",
      "execution_count": null,
      "metadata": {
        "id": "GvlNDN_6YxQe"
      },
      "outputs": [],
      "source": [
        "def plot_num_summary(dataframe):\n",
        "  cat_cols, num_cols, cat_but_car, num_but_cat = grab_col_names(dataframe)\n",
        "  plt.figure(figsize=(10,4))\n",
        "  for index, col in enumerate(num_cols):\n",
        "    plt.subplot(1,2,index+1)\n",
        "    plt.tight_layout()\n",
        "    dataframe[col].hist(bins=20)\n",
        "    plt.title(col)"
      ]
    },
    {
      "cell_type": "code",
      "execution_count": null,
      "metadata": {
        "colab": {
          "base_uri": "https://localhost:8080/",
          "height": 407
        },
        "id": "wUEXD8maYzpd",
        "outputId": "cb86747f-dc47-43b8-87da-9880806508d9"
      },
      "outputs": [
        {
          "data": {
            "image/png": "[encoded data removed]",
            "text/plain": [
              "<Figure size 1000x400 with 2 Axes>"
            ]
          },
          "metadata": {},
          "output_type": "display_data"
        }
      ],
      "source": [
        "\n",
        "plot_num_summary(df)"
      ]
    },
    {
      "cell_type": "code",
      "execution_count": null,
      "metadata": {
        "id": "JoVjzeZ9Y2lt"
      },
      "outputs": [],
      "source": [
        "def target_summary_with_cat(dataframe, target, categorical_col):\n",
        "  print(pd.DataFrame({\"Target Mean\": dataframe.groupby(categorical_col)[target].mean()}))\n",
        "  print(\"#############################################\")"
      ]
    },
    {
      "cell_type": "code",
      "execution_count": null,
      "metadata": {
        "id": "Jko0hF3WY9WG"
      },
      "outputs": [],
      "source": [
        "def target_summary_with_cat_df(dataframe, target):\n",
        "  cat_cols, num_cols, cat_but_car, num_but_cat = grab_col_names(df)\n",
        "  for col in cat_cols:\n",
        "    target_summary_with_cat(dataframe, target, col)"
      ]
    },
    {
      "cell_type": "code",
      "execution_count": null,
      "metadata": {
        "colab": {
          "base_uri": "https://localhost:8080/"
        },
        "id": "Vp6eW0L2Y-v9",
        "outputId": "17990991-53f9-475f-c217-6ee0b6d1b7f6"
      },
      "outputs": [
        {
          "name": "stdout",
          "output_type": "stream",
          "text": [
            "       Target Mean\n",
            "X1                \n",
            "0.620       14.283\n",
            "0.640       16.615\n",
            "0.660       12.817\n",
            "0.690       12.389\n",
            "0.710       12.040\n",
            "0.740       11.887\n",
            "0.760       35.664\n",
            "0.790       38.608\n",
            "0.820       25.555\n",
            "0.860       28.553\n",
            "0.900       31.629\n",
            "0.980       27.646\n",
            "#############################################\n",
            "         Target Mean\n",
            "X2                  \n",
            "514.500       27.646\n",
            "563.500       31.629\n",
            "588.000       28.553\n",
            "612.500       25.555\n",
            "637.000       38.608\n",
            "661.500       35.664\n",
            "686.000       11.887\n",
            "710.500       12.040\n",
            "735.000       12.389\n",
            "759.500       12.817\n",
            "784.000       16.615\n",
            "808.500       14.283\n",
            "#############################################\n",
            "         Target Mean\n",
            "X3                  \n",
            "245.000       11.887\n",
            "269.500       12.040\n",
            "294.000       22.863\n",
            "318.500       23.334\n",
            "343.000       27.612\n",
            "367.500       14.283\n",
            "416.500       35.664\n",
            "#############################################\n",
            "         Target Mean\n",
            "X4                  \n",
            "110.250       27.646\n",
            "122.500       33.647\n",
            "147.000       30.905\n",
            "220.500       13.339\n",
            "#############################################\n",
            "       Target Mean\n",
            "X5                \n",
            "3.500       13.339\n",
            "7.000       31.276\n",
            "#############################################\n",
            "    Target Mean\n",
            "X6             \n",
            "2        22.313\n",
            "3        22.381\n",
            "4        22.260\n",
            "5        22.275\n",
            "#############################################\n",
            "       Target Mean\n",
            "X7                \n",
            "0.000       14.286\n",
            "0.100       20.357\n",
            "0.250       22.757\n",
            "0.400       25.412\n",
            "#############################################\n",
            "    Target Mean\n",
            "X8             \n",
            "0        14.286\n",
            "1        23.026\n",
            "2        22.934\n",
            "3        22.681\n",
            "4        22.887\n",
            "5        22.681\n",
            "#############################################\n"
          ]
        }
      ],
      "source": [
        "target_summary_with_cat_df(df, \"Y1\")"
      ]
    },
    {
      "cell_type": "markdown",
      "metadata": {
        "id": "-wHcVXX9qq4y"
      },
      "source": [
        "**EXAMINATION** **OF** **DEPENDENT** **VARIABLES**"
      ]
    },
    {
      "cell_type": "code",
      "execution_count": null,
      "metadata": {
        "id": "x77bV5InZFk9"
      },
      "outputs": [],
      "source": [
        "def exam_dependent_variable(dataframe, target):\n",
        "  plt.figure(figsize=(16,4))\n",
        "  plt.subplot(121)\n",
        "  dataframe[target].hist(bins=100)\n",
        "  plt.title(target + \", Histogram\")\n",
        "  plt.subplot(122)\n",
        "  np.log1p(dataframe[target]).hist(bins=50)\n",
        "  plt.title(target + \", Logaritmic Histogram\")"
      ]
    },
    {
      "cell_type": "code",
      "execution_count": null,
      "metadata": {
        "colab": {
          "base_uri": "https://localhost:8080/",
          "height": 391
        },
        "id": "ZWSA5NN_UIVC",
        "outputId": "1d0ffa11-d3c9-4c74-dd82-519db5e60f7d"
      },
      "outputs": [
        {
          "data": {
            "image/png": "[encoded data removed]",
            "text/plain": [
              "<Figure size 1600x400 with 2 Axes>"
            ]
          },
          "metadata": {},
          "output_type": "display_data"
        }
      ],
      "source": [
        "exam_dependent_variable(df, \"Y1\")"
      ]
    },
    {
      "cell_type": "code",
      "execution_count": null,
      "metadata": {
        "colab": {
          "base_uri": "https://localhost:8080/",
          "height": 391
        },
        "id": "cJZQ9JaAUOXN",
        "outputId": "af051d31-28cc-44cf-e01b-4ff11241907b"
      },
      "outputs": [
        {
          "data": {
            "image/png": "[encoded data removed]",
            "text/plain": [
              "<Figure size 1600x400 with 2 Axes>"
            ]
          },
          "metadata": {},
          "output_type": "display_data"
        }
      ],
      "source": [
        "\n",
        "exam_dependent_variable(df, \"Y2\")"
      ]
    },
    {
      "cell_type": "markdown",
      "metadata": {
        "id": "rqVaKOmkq3Xk"
      },
      "source": [
        "**CORRELATION** **ANALYSIS**"
      ]
    },
    {
      "cell_type": "code",
      "execution_count": null,
      "metadata": {
        "colab": {
          "base_uri": "https://localhost:8080/",
          "height": 363
        },
        "id": "fjLEFNUmUQMz",
        "outputId": "238d77ad-4890-4287-cf15-4ff64d9b5930"
      },
      "outputs": [
        {
          "data": {
            "application/vnd.google.colaboratory.intrinsic+json": {
              "summary": "{\n  \"name\": \"df\",\n  \"rows\": 10,\n  \"fields\": [\n    {\n      \"column\": \"X1\",\n      \"properties\": {\n        \"dtype\": \"number\",\n        \"std\": 0.6791345898561336,\n        \"min\": -0.9919014616138861,\n        \"max\": 1.0,\n        \"num_unique_values\": 10,\n        \"samples\": [\n          0.6222721790646623,\n          -0.9919014616138861,\n          4.6785919732062327e-17\n        ],\n        \"semantic_type\": \"\",\n        \"description\": \"\"\n      }\n    },\n    {\n      \"column\": \"X2\",\n      \"properties\": {\n        \"dtype\": \"number\",\n        \"std\": 0.6910646111913169,\n        \"min\": -0.9919014616138861,\n        \"max\": 1.0,\n        \"num_unique_values\": 10,\n        \"samples\": [\n          -0.6581202267776199,\n          1.0,\n          -3.4593719744569687e-17\n        ],\n        \"semantic_type\": \"\",\n        \"description\": \"\"\n      }\n    },\n    {\n      \"column\": \"X3\",\n      \"properties\": {\n        \"dtype\": \"number\",\n        \"std\": 0.37816369313004683,\n        \"min\": -0.2923164661948909,\n        \"max\": 1.0,\n        \"num_unique_values\": 10,\n        \"samples\": [\n          0.4556711568983099,\n          0.19550163278939023,\n          -2.4294987908685022e-17\n        ],\n        \"semantic_type\": \"\",\n        \"description\": \"\"\n      }\n    },\n    {\n      \"column\": \"X4\",\n      \"properties\": {\n        \"dtype\": \"number\",\n        \"std\": 0.7193755049206404,\n        \"min\": -0.9725122370185876,\n        \"max\": 1.0,\n        \"num_unique_values\": 10,\n        \"samples\": [\n          -0.8618282529058214,\n          0.8807195166848419,\n          -5.830057978366636e-17\n        ],\n        \"semantic_type\": \"\",\n        \"description\": \"\"\n      }\n    },\n    {\n      \"column\": \"X5\",\n      \"properties\": {\n        \"dtype\": \"number\",\n        \"std\": 0.716016483459162,\n        \"min\": -0.9725122370185876,\n        \"max\": 1.0,\n        \"num_unique_values\": 10,\n        \"samples\": [\n          0.889430674100704,\n          -0.85814767302902,\n          4.4922046582569675e-17\n        ],\n        \"semantic_type\": \"\",\n        \"description\": \"\"\n      }\n    },\n    {\n      \"column\": \"X6\",\n      \"properties\": {\n        \"dtype\": \"number\",\n        \"std\": 0.3158509799563669,\n        \"min\": -0.0025865339156389898,\n        \"max\": 1.0,\n        \"num_unique_values\": 10,\n        \"samples\": [\n          -0.0025865339156389898,\n          -3.4593719744569687e-17,\n          1.0\n        ],\n        \"semantic_type\": \"\",\n        \"description\": \"\"\n      }\n    },\n    {\n      \"column\": \"X7\",\n      \"properties\": {\n        \"dtype\": \"number\",\n        \"std\": 0.3118958843316272,\n        \"min\": -2.9605515827892856e-15,\n        \"max\": 1.0,\n        \"num_unique_values\": 10,\n        \"samples\": [\n          0.2698409963206328,\n          3.6369248428900155e-15,\n          -9.40600687758829e-16\n        ],\n        \"semantic_type\": \"\",\n        \"description\": \"\"\n      }\n    },\n    {\n      \"column\": \"X8\",\n      \"properties\": {\n        \"dtype\": \"number\",\n        \"std\": 0.31145861111991713,\n        \"min\": -1.078070980859417e-15,\n        \"max\": 1.0,\n        \"num_unique_values\": 10,\n        \"samples\": [\n          0.0873675937084639,\n          2.438409032421084e-15,\n          -2.5493518440201216e-16\n        ],\n        \"semantic_type\": \"\",\n        \"description\": \"\"\n      }\n    },\n    {\n      \"column\": \"Y1\",\n      \"properties\": {\n        \"dtype\": \"number\",\n        \"std\": 0.6517410978702901,\n        \"min\": -0.8618282529058214,\n        \"max\": 1.0,\n        \"num_unique_values\": 10,\n        \"samples\": [\n          1.0,\n          -0.6581202267776199,\n          -0.0025865339156389898\n        ],\n        \"semantic_type\": \"\",\n        \"description\": \"\"\n      }\n    },\n    {\n      \"column\": \"Y2\",\n      \"properties\": {\n        \"dtype\": \"number\",\n        \"std\": 0.6556978811628829,\n        \"min\": -0.862546603524975,\n        \"max\": 1.0,\n        \"num_unique_values\": 10,\n        \"samples\": [\n          0.9758618134328587,\n          -0.672998933354486,\n          0.014289597576170073\n        ],\n        \"semantic_type\": \"\",\n        \"description\": \"\"\n      }\n    }\n  ]\n}",
              "type": "dataframe"
            },
            "text/html": [
              "\n",
              "  <div id=\"df-5bccac42-b951-4d71-ab2f-d38fc7ed1690\" class=\"colab-df-container\">\n",
              "    <div>\n",
              "<style scoped>\n",
              "    .dataframe tbody tr th:only-of-type {\n",
              "        vertical-align: middle;\n",
              "    }\n",
              "\n",
              "    .dataframe tbody tr th {\n",
              "        vertical-align: top;\n",
              "    }\n",
              "\n",
              "    .dataframe thead th {\n",
              "        text-align: right;\n",
              "    }\n",
              "</style>\n",
              "<table border=\"1\" class=\"dataframe\">\n",
              "  <thead>\n",
              "    <tr style=\"text-align: right;\">\n",
              "      <th></th>\n",
              "      <th>X1</th>\n",
              "      <th>X2</th>\n",
              "      <th>X3</th>\n",
              "      <th>X4</th>\n",
              "      <th>X5</th>\n",
              "      <th>X6</th>\n",
              "      <th>X7</th>\n",
              "      <th>X8</th>\n",
              "      <th>Y1</th>\n",
              "      <th>Y2</th>\n",
              "    </tr>\n",
              "  </thead>\n",
              "  <tbody>\n",
              "    <tr>\n",
              "      <th>X1</th>\n",
              "      <td>1.000</td>\n",
              "      <td>-0.992</td>\n",
              "      <td>-0.204</td>\n",
              "      <td>-0.869</td>\n",
              "      <td>0.828</td>\n",
              "      <td>0.000</td>\n",
              "      <td>-0.000</td>\n",
              "      <td>-0.000</td>\n",
              "      <td>0.622</td>\n",
              "      <td>0.634</td>\n",
              "    </tr>\n",
              "    <tr>\n",
              "      <th>X2</th>\n",
              "      <td>-0.992</td>\n",
              "      <td>1.000</td>\n",
              "      <td>0.196</td>\n",
              "      <td>0.881</td>\n",
              "      <td>-0.858</td>\n",
              "      <td>-0.000</td>\n",
              "      <td>0.000</td>\n",
              "      <td>0.000</td>\n",
              "      <td>-0.658</td>\n",
              "      <td>-0.673</td>\n",
              "    </tr>\n",
              "    <tr>\n",
              "      <th>X3</th>\n",
              "      <td>-0.204</td>\n",
              "      <td>0.196</td>\n",
              "      <td>1.000</td>\n",
              "      <td>-0.292</td>\n",
              "      <td>0.281</td>\n",
              "      <td>-0.000</td>\n",
              "      <td>-0.000</td>\n",
              "      <td>0.000</td>\n",
              "      <td>0.456</td>\n",
              "      <td>0.427</td>\n",
              "    </tr>\n",
              "    <tr>\n",
              "      <th>X4</th>\n",
              "      <td>-0.869</td>\n",
              "      <td>0.881</td>\n",
              "      <td>-0.292</td>\n",
              "      <td>1.000</td>\n",
              "      <td>-0.973</td>\n",
              "      <td>-0.000</td>\n",
              "      <td>-0.000</td>\n",
              "      <td>-0.000</td>\n",
              "      <td>-0.862</td>\n",
              "      <td>-0.863</td>\n",
              "    </tr>\n",
              "    <tr>\n",
              "      <th>X5</th>\n",
              "      <td>0.828</td>\n",
              "      <td>-0.858</td>\n",
              "      <td>0.281</td>\n",
              "      <td>-0.973</td>\n",
              "      <td>1.000</td>\n",
              "      <td>0.000</td>\n",
              "      <td>0.000</td>\n",
              "      <td>-0.000</td>\n",
              "      <td>0.889</td>\n",
              "      <td>0.896</td>\n",
              "    </tr>\n",
              "    <tr>\n",
              "      <th>X6</th>\n",
              "      <td>0.000</td>\n",
              "      <td>-0.000</td>\n",
              "      <td>-0.000</td>\n",
              "      <td>-0.000</td>\n",
              "      <td>0.000</td>\n",
              "      <td>1.000</td>\n",
              "      <td>-0.000</td>\n",
              "      <td>-0.000</td>\n",
              "      <td>-0.003</td>\n",
              "      <td>0.014</td>\n",
              "    </tr>\n",
              "    <tr>\n",
              "      <th>X7</th>\n",
              "      <td>-0.000</td>\n",
              "      <td>0.000</td>\n",
              "      <td>-0.000</td>\n",
              "      <td>-0.000</td>\n",
              "      <td>0.000</td>\n",
              "      <td>-0.000</td>\n",
              "      <td>1.000</td>\n",
              "      <td>0.213</td>\n",
              "      <td>0.270</td>\n",
              "      <td>0.208</td>\n",
              "    </tr>\n",
              "    <tr>\n",
              "      <th>X8</th>\n",
              "      <td>-0.000</td>\n",
              "      <td>0.000</td>\n",
              "      <td>0.000</td>\n",
              "      <td>-0.000</td>\n",
              "      <td>-0.000</td>\n",
              "      <td>-0.000</td>\n",
              "      <td>0.213</td>\n",
              "      <td>1.000</td>\n",
              "      <td>0.087</td>\n",
              "      <td>0.051</td>\n",
              "    </tr>\n",
              "    <tr>\n",
              "      <th>Y1</th>\n",
              "      <td>0.622</td>\n",
              "      <td>-0.658</td>\n",
              "      <td>0.456</td>\n",
              "      <td>-0.862</td>\n",
              "      <td>0.889</td>\n",
              "      <td>-0.003</td>\n",
              "      <td>0.270</td>\n",
              "      <td>0.087</td>\n",
              "      <td>1.000</td>\n",
              "      <td>0.976</td>\n",
              "    </tr>\n",
              "    <tr>\n",
              "      <th>Y2</th>\n",
              "      <td>0.634</td>\n",
              "      <td>-0.673</td>\n",
              "      <td>0.427</td>\n",
              "      <td>-0.863</td>\n",
              "      <td>0.896</td>\n",
              "      <td>0.014</td>\n",
              "      <td>0.208</td>\n",
              "      <td>0.051</td>\n",
              "      <td>0.976</td>\n",
              "      <td>1.000</td>\n",
              "    </tr>\n",
              "  </tbody>\n",
              "</table>\n",
              "</div>\n",
              "    <div class=\"colab-df-buttons\">\n",
              "\n",
              "  <div class=\"colab-df-container\">\n",
              "    <button class=\"colab-df-convert\" onclick=\"convertToInteractive('df-5bccac42-b951-4d71-ab2f-d38fc7ed1690')\"\n",
              "            title=\"Convert this dataframe to an interactive table.\"\n",
              "            style=\"display:none;\">\n",
              "\n",
              "  <svg xmlns=\"http://www.w3.org/2000/svg\" height=\"24px\" viewBox=\"0 -960 960 960\">\n",
              "    <path d=\"M120-120v-720h720v720H120Zm60-500h600v-160H180v160Zm220 220h160v-160H400v160Zm0 220h160v-160H400v160ZM180-400h160v-160H180v160Zm440 0h160v-160H620v160ZM180-180h160v-160H180v160Zm440 0h160v-160H620v160Z\"/>\n",
              "  </svg>\n",
              "    </button>\n",
              "\n",
              "  <style>\n",
              "    .colab-df-container {\n",
              "      display:flex;\n",
              "      gap: 12px;\n",
              "    }\n",
              "\n",
              "    .colab-df-convert {\n",
              "      background-color: #E8F0FE;\n",
              "      border: none;\n",
              "      border-radius: 50%;\n",
              "      cursor: pointer;\n",
              "      display: none;\n",
              "      fill: #1967D2;\n",
              "      height: 32px;\n",
              "      padding: 0 0 0 0;\n",
              "      width: 32px;\n",
              "    }\n",
              "\n",
              "    .colab-df-convert:hover {\n",
              "      background-color: #E2EBFA;\n",
              "      box-shadow: 0px 1px 2px rgba(60, 64, 67, 0.3), 0px 1px 3px 1px rgba(60, 64, 67, 0.15);\n",
              "      fill: #174EA6;\n",
              "    }\n",
              "\n",
              "    .colab-df-buttons div {\n",
              "      margin-bottom: 4px;\n",
              "    }\n",
              "\n",
              "    [theme=dark] .colab-df-convert {\n",
              "      background-color: #3B4455;\n",
              "      fill: #D2E3FC;\n",
              "    }\n",
              "\n",
              "    [theme=dark] .colab-df-convert:hover {\n",
              "      background-color: #434B5C;\n",
              "      box-shadow: 0px 1px 3px 1px rgba(0, 0, 0, 0.15);\n",
              "      filter: drop-shadow(0px 1px 2px rgba(0, 0, 0, 0.3));\n",
              "      fill: #FFFFFF;\n",
              "    }\n",
              "  </style>\n",
              "\n",
              "    <script>\n",
              "      const buttonEl =\n",
              "        document.querySelector('#df-5bccac42-b951-4d71-ab2f-d38fc7ed1690 button.colab-df-convert');\n",
              "      buttonEl.style.display =\n",
              "        google.colab.kernel.accessAllowed ? 'block' : 'none';\n",
              "\n",
              "      async function convertToInteractive(key) {\n",
              "        const element = document.querySelector('#df-5bccac42-b951-4d71-ab2f-d38fc7ed1690');\n",
              "        const dataTable =\n",
              "          await google.colab.kernel.invokeFunction('convertToInteractive',\n",
              "                                                    [key], {});\n",
              "        if (!dataTable) return;\n",
              "\n",
              "        const docLinkHtml = 'Like what you see? Visit the ' +\n",
              "          '<a target=\"_blank\" href=https://colab.research.google.com/notebooks/data_table.ipynb>data table notebook</a>'\n",
              "          + ' to learn more about interactive tables.';\n",
              "        element.innerHTML = '';\n",
              "        dataTable['output_type'] = 'display_data';\n",
              "        await google.colab.output.renderOutput(dataTable, element);\n",
              "        const docLink = document.createElement('div');\n",
              "        docLink.innerHTML = docLinkHtml;\n",
              "        element.appendChild(docLink);\n",
              "      }\n",
              "    </script>\n",
              "  </div>\n",
              "\n",
              "\n",
              "<div id=\"df-6116be78-1c96-4a6c-9137-01edf4dd081e\">\n",
              "  <button class=\"colab-df-quickchart\" onclick=\"quickchart('df-6116be78-1c96-4a6c-9137-01edf4dd081e')\"\n",
              "            title=\"Suggest charts\"\n",
              "            style=\"display:none;\">\n",
              "\n",
              "<svg xmlns=\"http://www.w3.org/2000/svg\" height=\"24px\"viewBox=\"0 0 24 24\"\n",
              "     width=\"24px\">\n",
              "    <g>\n",
              "        <path d=\"M19 3H5c-1.1 0-2 .9-2 2v14c0 1.1.9 2 2 2h14c1.1 0 2-.9 2-2V5c0-1.1-.9-2-2-2zM9 17H7v-7h2v7zm4 0h-2V7h2v10zm4 0h-2v-4h2v4z\"/>\n",
              "    </g>\n",
              "</svg>\n",
              "  </button>\n",
              "\n",
              "<style>\n",
              "  .colab-df-quickchart {\n",
              "      --bg-color: #E8F0FE;\n",
              "      --fill-color: #1967D2;\n",
              "      --hover-bg-color: #E2EBFA;\n",
              "      --hover-fill-color: #174EA6;\n",
              "      --disabled-fill-color: #AAA;\n",
              "      --disabled-bg-color: #DDD;\n",
              "  }\n",
              "\n",
              "  [theme=dark] .colab-df-quickchart {\n",
              "      --bg-color: #3B4455;\n",
              "      --fill-color: #D2E3FC;\n",
              "      --hover-bg-color: #434B5C;\n",
              "      --hover-fill-color: #FFFFFF;\n",
              "      --disabled-bg-color: #3B4455;\n",
              "      --disabled-fill-color: #666;\n",
              "  }\n",
              "\n",
              "  .colab-df-quickchart {\n",
              "    background-color: var(--bg-color);\n",
              "    border: none;\n",
              "    border-radius: 50%;\n",
              "    cursor: pointer;\n",
              "    display: none;\n",
              "    fill: var(--fill-color);\n",
              "    height: 32px;\n",
              "    padding: 0;\n",
              "    width: 32px;\n",
              "  }\n",
              "\n",
              "  .colab-df-quickchart:hover {\n",
              "    background-color: var(--hover-bg-color);\n",
              "    box-shadow: 0 1px 2px rgba(60, 64, 67, 0.3), 0 1px 3px 1px rgba(60, 64, 67, 0.15);\n",
              "    fill: var(--button-hover-fill-color);\n",
              "  }\n",
              "\n",
              "  .colab-df-quickchart-complete:disabled,\n",
              "  .colab-df-quickchart-complete:disabled:hover {\n",
              "    background-color: var(--disabled-bg-color);\n",
              "    fill: var(--disabled-fill-color);\n",
              "    box-shadow: none;\n",
              "  }\n",
              "\n",
              "  .colab-df-spinner {\n",
              "    border: 2px solid var(--fill-color);\n",
              "    border-color: transparent;\n",
              "    border-bottom-color: var(--fill-color);\n",
              "    animation:\n",
              "      spin 1s steps(1) infinite;\n",
              "  }\n",
              "\n",
              "  @keyframes spin {\n",
              "    0% {\n",
              "      border-color: transparent;\n",
              "      border-bottom-color: var(--fill-color);\n",
              "      border-left-color: var(--fill-color);\n",
              "    }\n",
              "    20% {\n",
              "      border-color: transparent;\n",
              "      border-left-color: var(--fill-color);\n",
              "      border-top-color: var(--fill-color);\n",
              "    }\n",
              "    30% {\n",
              "      border-color: transparent;\n",
              "      border-left-color: var(--fill-color);\n",
              "      border-top-color: var(--fill-color);\n",
              "      border-right-color: var(--fill-color);\n",
              "    }\n",
              "    40% {\n",
              "      border-color: transparent;\n",
              "      border-right-color: var(--fill-color);\n",
              "      border-top-color: var(--fill-color);\n",
              "    }\n",
              "    60% {\n",
              "      border-color: transparent;\n",
              "      border-right-color: var(--fill-color);\n",
              "    }\n",
              "    80% {\n",
              "      border-color: transparent;\n",
              "      border-right-color: var(--fill-color);\n",
              "      border-bottom-color: var(--fill-color);\n",
              "    }\n",
              "    90% {\n",
              "      border-color: transparent;\n",
              "      border-bottom-color: var(--fill-color);\n",
              "    }\n",
              "  }\n",
              "</style>\n",
              "\n",
              "  <script>\n",
              "    async function quickchart(key) {\n",
              "      const quickchartButtonEl =\n",
              "        document.querySelector('#' + key + ' button');\n",
              "      quickchartButtonEl.disabled = true;  // To prevent multiple clicks.\n",
              "      quickchartButtonEl.classList.add('colab-df-spinner');\n",
              "      try {\n",
              "        const charts = await google.colab.kernel.invokeFunction(\n",
              "            'suggestCharts', [key], {});\n",
              "      } catch (error) {\n",
              "        console.error('Error during call to suggestCharts:', error);\n",
              "      }\n",
              "      quickchartButtonEl.classList.remove('colab-df-spinner');\n",
              "      quickchartButtonEl.classList.add('colab-df-quickchart-complete');\n",
              "    }\n",
              "    (() => {\n",
              "      let quickchartButtonEl =\n",
              "        document.querySelector('#df-6116be78-1c96-4a6c-9137-01edf4dd081e button');\n",
              "      quickchartButtonEl.style.display =\n",
              "        google.colab.kernel.accessAllowed ? 'block' : 'none';\n",
              "    })();\n",
              "  </script>\n",
              "</div>\n",
              "\n",
              "    </div>\n",
              "  </div>\n"
            ],
            "text/plain": [
              "       X1     X2     X3     X4     X5     X6     X7     X8     Y1     Y2\n",
              "X1  1.000 -0.992 -0.204 -0.869  0.828  0.000 -0.000 -0.000  0.622  0.634\n",
              "X2 -0.992  1.000  0.196  0.881 -0.858 -0.000  0.000  0.000 -0.658 -0.673\n",
              "X3 -0.204  0.196  1.000 -0.292  0.281 -0.000 -0.000  0.000  0.456  0.427\n",
              "X4 -0.869  0.881 -0.292  1.000 -0.973 -0.000 -0.000 -0.000 -0.862 -0.863\n",
              "X5  0.828 -0.858  0.281 -0.973  1.000  0.000  0.000 -0.000  0.889  0.896\n",
              "X6  0.000 -0.000 -0.000 -0.000  0.000  1.000 -0.000 -0.000 -0.003  0.014\n",
              "X7 -0.000  0.000 -0.000 -0.000  0.000 -0.000  1.000  0.213  0.270  0.208\n",
              "X8 -0.000  0.000  0.000 -0.000 -0.000 -0.000  0.213  1.000  0.087  0.051\n",
              "Y1  0.622 -0.658  0.456 -0.862  0.889 -0.003  0.270  0.087  1.000  0.976\n",
              "Y2  0.634 -0.673  0.427 -0.863  0.896  0.014  0.208  0.051  0.976  1.000"
            ]
          },
          "execution_count": 21,
          "metadata": {},
          "output_type": "execute_result"
        }
      ],
      "source": [
        "df.corr()"
      ]
    },
    {
      "cell_type": "code",
      "execution_count": null,
      "metadata": {
        "colab": {
          "base_uri": "https://localhost:8080/",
          "height": 1000
        },
        "id": "NHals-qQUWIi",
        "outputId": "1ce4bf26-f25c-4a04-f378-3383acf0b6b1"
      },
      "outputs": [
        {
          "data": {
            "image/png": "[encoded data removed]",
            "text/plain": [
              "<Figure size 1800x1300 with 2 Axes>"
            ]
          },
          "metadata": {},
          "output_type": "display_data"
        }
      ],
      "source": [
        "f, ax = plt.subplots(figsize=[18, 13])\n",
        "sns.heatmap(df.corr(), annot=True, fmt=\".2f\", ax=ax, cmap=\"magma\")\n",
        "ax.set_title(\"Correlation Matrix\", fontsize=20)\n",
        "plt.show()"
      ]
    },
    {
      "cell_type": "markdown",
      "metadata": {
        "id": "VuM_BaGhrQbR"
      },
      "source": [
        "**OUTLIER** **ANALYSIS**"
      ]
    },
    {
      "cell_type": "code",
      "execution_count": null,
      "metadata": {
        "id": "MmSBAAsAWYxb"
      },
      "outputs": [],
      "source": [
        "def outlier_thresholds(dataframe,col_name,q1=0.10,q3=0.90):\n",
        "  quartile1 = dataframe[col_name].quantile(q1)\n",
        "  quartile3 = dataframe[col_name].quantile(q3)\n",
        "  interquartile_range = quartile3 - quartile1\n",
        "  low_limit = quartile1 - 1.5 * interquartile_range\n",
        "  up_limit = quartile3 + 1.5 * interquartile_range\n",
        "  return low_limit,up_limit"
      ]
    },
    {
      "cell_type": "code",
      "execution_count": null,
      "metadata": {
        "id": "3UYIzJNxWcIj"
      },
      "outputs": [],
      "source": [
        "def check_outlier(dataframe, col_name):\n",
        "  low_limit,up_limit = outlier_thresholds(dataframe,col_name)\n",
        "  if dataframe[(dataframe[col_name] > up_limit) | (dataframe[col_name] < low_limit)].any(axis=None):\n",
        "    return True\n",
        "  else:\n",
        "    return False"
      ]
    },
    {
      "cell_type": "code",
      "execution_count": null,
      "metadata": {
        "id": "-b3KrVH_WhO7"
      },
      "outputs": [],
      "source": [
        "def replace_with_thresholds(dataframe, col_name):\n",
        "  low_limit, up_limit = outlier_thresholds(dataframe, col_name)\n",
        "  dataframe.loc[(dataframe[col_name] < low_limit), col_name] = low_limit\n",
        "  dataframe.loc[(dataframe[col_name] > up_limit), col_name] = up_limit"
      ]
    },
    {
      "cell_type": "code",
      "execution_count": null,
      "metadata": {
        "id": "C0GX8cdmWiq0"
      },
      "outputs": [],
      "source": [
        "\n",
        "def solve_outliers(dataframe, target):\n",
        "  cat_cols, num_cols, cat_but_car, num_but_cat = grab_col_names(dataframe)\n",
        "  for col in num_cols:\n",
        "    if col!=target:\n",
        "      print(col, check_outlier(dataframe, col))\n",
        "      if check_outlier(dataframe, col):\n",
        "        replace_with_thresholds(dataframe, col)"
      ]
    },
    {
      "cell_type": "code",
      "execution_count": null,
      "metadata": {
        "colab": {
          "base_uri": "https://localhost:8080/"
        },
        "id": "EtyhLcEFWlIc",
        "outputId": "913ff38a-44d8-4c78-9a09-18216249b3a2"
      },
      "outputs": [
        {
          "name": "stdout",
          "output_type": "stream",
          "text": [
            "Y2 False\n"
          ]
        }
      ],
      "source": [
        "solve_outliers(df, \"Y1\")"
      ]
    },
    {
      "cell_type": "code",
      "execution_count": null,
      "metadata": {
        "colab": {
          "base_uri": "https://localhost:8080/"
        },
        "id": "l4tp5LjLWpYM",
        "outputId": "7117433c-3c07-4e72-a5bb-961ffb66fe6a"
      },
      "outputs": [
        {
          "name": "stdout",
          "output_type": "stream",
          "text": [
            "Y1 False\n"
          ]
        }
      ],
      "source": [
        "solve_outliers(df, \"Y2\")"
      ]
    },
    {
      "cell_type": "code",
      "execution_count": null,
      "metadata": {
        "id": "lSihCzabWqec"
      },
      "outputs": [],
      "source": [
        "def check_outlier_df(dataframe, target):\n",
        "  cat_cols, num_cols, cat_but_car, num_but_cat = grab_col_names(dataframe)\n",
        "  for col in num_cols:\n",
        "    if col!=target:\n",
        "      print(col, check_outlier(dataframe, col))"
      ]
    },
    {
      "cell_type": "code",
      "execution_count": null,
      "metadata": {
        "colab": {
          "base_uri": "https://localhost:8080/"
        },
        "id": "XLHAFFFEWtfr",
        "outputId": "d1a6ffe1-981d-401f-ced9-3536b27b4142"
      },
      "outputs": [
        {
          "name": "stdout",
          "output_type": "stream",
          "text": [
            "Y2 False\n"
          ]
        }
      ],
      "source": [
        "check_outlier_df(df, \"Y1\")"
      ]
    },
    {
      "cell_type": "code",
      "execution_count": null,
      "metadata": {
        "colab": {
          "base_uri": "https://localhost:8080/"
        },
        "id": "pvBJgbO3WwGU",
        "outputId": "6c806a58-3bab-4b85-f9bf-5e28936e2d25"
      },
      "outputs": [
        {
          "name": "stdout",
          "output_type": "stream",
          "text": [
            "Y1 False\n"
          ]
        }
      ],
      "source": [
        "check_outlier_df(df, \"Y2\")"
      ]
    },
    {
      "cell_type": "markdown",
      "metadata": {
        "id": "RxnVo8ltrkAW"
      },
      "source": [
        "**MISSING** **VALUE** **ANALYSIS**"
      ]
    },
    {
      "cell_type": "code",
      "execution_count": null,
      "metadata": {
        "id": "thBkdEn8W0vk"
      },
      "outputs": [],
      "source": [
        "def missing_value_table(dataframe, na_name=False):\n",
        "  na_columns = [col for col in dataframe.columns if dataframe[col].isnull().sum() > 0]\n",
        "  n_miss = dataframe[na_columns].isnull().sum().sort_values(ascending=False)\n",
        "  ratio = (dataframe[na_columns].isnull().sum() / dataframe.shape[0] * 100).sort_values(ascending=False)\n",
        "  missing_df = pd.concat([n_miss, np.round(ratio, 2)], axis=1, keys=[\"n_miss\",\"ratio\"])\n",
        "  print(missing_df, end=\"\\n\")\n",
        "  if na_name:\n",
        "    return na_columns"
      ]
    },
    {
      "cell_type": "code",
      "execution_count": null,
      "metadata": {
        "colab": {
          "base_uri": "https://localhost:8080/"
        },
        "id": "dHM2aRQ2W2Q0",
        "outputId": "ba47a075-7ee8-4b28-9365-cdcb538a11df"
      },
      "outputs": [
        {
          "name": "stdout",
          "output_type": "stream",
          "text": [
            "Empty DataFrame\n",
            "Columns: [n_miss, ratio]\n",
            "Index: []\n"
          ]
        }
      ],
      "source": [
        "na_columns = missing_value_table(df, na_name=True)"
      ]
    },
    {
      "cell_type": "code",
      "execution_count": null,
      "metadata": {
        "colab": {
          "base_uri": "https://localhost:8080/",
          "height": 397
        },
        "id": "YIyWEA_KW-5s",
        "outputId": "60274136-f903-4ffc-a010-e066023b0e9d"
      },
      "outputs": [
        {
          "data": {
            "text/html": [
              "<div>\n",
              "<style scoped>\n",
              "    .dataframe tbody tr th:only-of-type {\n",
              "        vertical-align: middle;\n",
              "    }\n",
              "\n",
              "    .dataframe tbody tr th {\n",
              "        vertical-align: top;\n",
              "    }\n",
              "\n",
              "    .dataframe thead th {\n",
              "        text-align: right;\n",
              "    }\n",
              "</style>\n",
              "<table border=\"1\" class=\"dataframe\">\n",
              "  <thead>\n",
              "    <tr style=\"text-align: right;\">\n",
              "      <th></th>\n",
              "      <th>0</th>\n",
              "    </tr>\n",
              "  </thead>\n",
              "  <tbody>\n",
              "    <tr>\n",
              "      <th>X1</th>\n",
              "      <td>0</td>\n",
              "    </tr>\n",
              "    <tr>\n",
              "      <th>X2</th>\n",
              "      <td>0</td>\n",
              "    </tr>\n",
              "    <tr>\n",
              "      <th>X3</th>\n",
              "      <td>0</td>\n",
              "    </tr>\n",
              "    <tr>\n",
              "      <th>X4</th>\n",
              "      <td>0</td>\n",
              "    </tr>\n",
              "    <tr>\n",
              "      <th>X5</th>\n",
              "      <td>0</td>\n",
              "    </tr>\n",
              "    <tr>\n",
              "      <th>X6</th>\n",
              "      <td>0</td>\n",
              "    </tr>\n",
              "    <tr>\n",
              "      <th>X7</th>\n",
              "      <td>0</td>\n",
              "    </tr>\n",
              "    <tr>\n",
              "      <th>X8</th>\n",
              "      <td>0</td>\n",
              "    </tr>\n",
              "    <tr>\n",
              "      <th>Y1</th>\n",
              "      <td>0</td>\n",
              "    </tr>\n",
              "    <tr>\n",
              "      <th>Y2</th>\n",
              "      <td>0</td>\n",
              "    </tr>\n",
              "  </tbody>\n",
              "</table>\n",
              "</div><br><label><b>dtype:</b> int64</label>"
            ],
            "text/plain": [
              "X1    0\n",
              "X2    0\n",
              "X3    0\n",
              "X4    0\n",
              "X5    0\n",
              "X6    0\n",
              "X7    0\n",
              "X8    0\n",
              "Y1    0\n",
              "Y2    0\n",
              "dtype: int64"
            ]
          },
          "execution_count": 35,
          "metadata": {},
          "output_type": "execute_result"
        }
      ],
      "source": [
        "df.isnull().sum()"
      ]
    },
    {
      "cell_type": "markdown",
      "metadata": {
        "id": "EtCGj_QhrqE1"
      },
      "source": [
        "**ENCODING** **SCALING**"
      ]
    },
    {
      "cell_type": "code",
      "execution_count": null,
      "metadata": {
        "id": "2ZpFROg3XAkr"
      },
      "outputs": [],
      "source": [
        "def label_encoding(dataframe, binary_col):\n",
        "  labelencoder = LabelEncoder()\n",
        "  dataframe[binary_col] = labelencoder.fit_transform(dataframe[binary_col])\n",
        "  return dataframe"
      ]
    },
    {
      "cell_type": "code",
      "execution_count": null,
      "metadata": {
        "id": "uZ0aL0VnXEyz"
      },
      "outputs": [],
      "source": [
        "def label_encoder(dataframe):\n",
        "  binary_cols = [col for col in dataframe.columns if dataframe[col].dtypes == \"O\" and dataframe[col].nunique() == 2]\n",
        "  for col in binary_cols:\n",
        "      dataframe = label_encoding(dataframe, col)\n",
        "  return dataframe"
      ]
    },
    {
      "cell_type": "code",
      "execution_count": null,
      "metadata": {
        "id": "J8obLPLrXH0z"
      },
      "outputs": [],
      "source": [
        "df = label_encoder(df)"
      ]
    },
    {
      "cell_type": "code",
      "execution_count": null,
      "metadata": {
        "id": "SUVvcMqiXKOk"
      },
      "outputs": [],
      "source": [
        "def one_hot_encoder(dataframe, target, drop_first=False):\n",
        "    binary_cols = [col for col in dataframe.columns if dataframe[col].dtypes == \"O\" and dataframe[col].nunique() == 2]\n",
        "    cat_cols, num_cols, cat_but_car, num_but_cat = grab_col_names(df)\n",
        "    cat_cols = [col for col in cat_cols if col not in binary_cols and col not in [target]]\n",
        "    dataframe = pd.get_dummies(dataframe, columns=cat_cols, drop_first=drop_first)\n",
        "    return dataframe"
      ]
    },
    {
      "cell_type": "code",
      "execution_count": null,
      "metadata": {
        "id": "eY-8Is04XQ5U"
      },
      "outputs": [],
      "source": [
        "df = one_hot_encoder(df, [\"Y1\",\"Y2\"], drop_first=True)"
      ]
    },
    {
      "cell_type": "code",
      "execution_count": null,
      "metadata": {
        "colab": {
          "base_uri": "https://localhost:8080/",
          "height": 226
        },
        "id": "MN4K4LzvXR6L",
        "outputId": "c0ac7c73-0107-47b3-83bc-4527d6934f16"
      },
      "outputs": [
        {
          "data": {
            "application/vnd.google.colaboratory.intrinsic+json": {
              "type": "dataframe",
              "variable_name": "df"
            },
            "text/html": [
              "\n",
              "  <div id=\"df-de6cd434-c5fe-4c55-8bf0-216dda7f7a6c\" class=\"colab-df-container\">\n",
              "    <div>\n",
              "<style scoped>\n",
              "    .dataframe tbody tr th:only-of-type {\n",
              "        vertical-align: middle;\n",
              "    }\n",
              "\n",
              "    .dataframe tbody tr th {\n",
              "        vertical-align: top;\n",
              "    }\n",
              "\n",
              "    .dataframe thead th {\n",
              "        text-align: right;\n",
              "    }\n",
              "</style>\n",
              "<table border=\"1\" class=\"dataframe\">\n",
              "  <thead>\n",
              "    <tr style=\"text-align: right;\">\n",
              "      <th></th>\n",
              "      <th>Y1</th>\n",
              "      <th>Y2</th>\n",
              "      <th>X1_0.64</th>\n",
              "      <th>X1_0.66</th>\n",
              "      <th>X1_0.69</th>\n",
              "      <th>X1_0.71</th>\n",
              "      <th>X1_0.74</th>\n",
              "      <th>X1_0.76</th>\n",
              "      <th>X1_0.79</th>\n",
              "      <th>X1_0.82</th>\n",
              "      <th>X1_0.86</th>\n",
              "      <th>X1_0.9</th>\n",
              "      <th>X1_0.98</th>\n",
              "      <th>X2_563.5</th>\n",
              "      <th>X2_588.0</th>\n",
              "      <th>X2_612.5</th>\n",
              "      <th>X2_637.0</th>\n",
              "      <th>X2_661.5</th>\n",
              "      <th>X2_686.0</th>\n",
              "      <th>X2_710.5</th>\n",
              "      <th>X2_735.0</th>\n",
              "      <th>X2_759.5</th>\n",
              "      <th>X2_784.0</th>\n",
              "      <th>X2_808.5</th>\n",
              "      <th>X3_269.5</th>\n",
              "      <th>X3_294.0</th>\n",
              "      <th>X3_318.5</th>\n",
              "      <th>X3_343.0</th>\n",
              "      <th>X3_367.5</th>\n",
              "      <th>X3_416.5</th>\n",
              "      <th>X4_122.5</th>\n",
              "      <th>X4_147.0</th>\n",
              "      <th>X4_220.5</th>\n",
              "      <th>X5_7.0</th>\n",
              "      <th>X6_3</th>\n",
              "      <th>X6_4</th>\n",
              "      <th>X6_5</th>\n",
              "      <th>X7_0.1</th>\n",
              "      <th>X7_0.25</th>\n",
              "      <th>X7_0.4</th>\n",
              "      <th>X8_1</th>\n",
              "      <th>X8_2</th>\n",
              "      <th>X8_3</th>\n",
              "      <th>X8_4</th>\n",
              "      <th>X8_5</th>\n",
              "    </tr>\n",
              "  </thead>\n",
              "  <tbody>\n",
              "    <tr>\n",
              "      <th>0</th>\n",
              "      <td>15.550</td>\n",
              "      <td>21.330</td>\n",
              "      <td>False</td>\n",
              "      <td>False</td>\n",
              "      <td>False</td>\n",
              "      <td>False</td>\n",
              "      <td>False</td>\n",
              "      <td>False</td>\n",
              "      <td>False</td>\n",
              "      <td>False</td>\n",
              "      <td>False</td>\n",
              "      <td>False</td>\n",
              "      <td>True</td>\n",
              "      <td>False</td>\n",
              "      <td>False</td>\n",
              "      <td>False</td>\n",
              "      <td>False</td>\n",
              "      <td>False</td>\n",
              "      <td>False</td>\n",
              "      <td>False</td>\n",
              "      <td>False</td>\n",
              "      <td>False</td>\n",
              "      <td>False</td>\n",
              "      <td>False</td>\n",
              "      <td>False</td>\n",
              "      <td>True</td>\n",
              "      <td>False</td>\n",
              "      <td>False</td>\n",
              "      <td>False</td>\n",
              "      <td>False</td>\n",
              "      <td>False</td>\n",
              "      <td>False</td>\n",
              "      <td>False</td>\n",
              "      <td>True</td>\n",
              "      <td>False</td>\n",
              "      <td>False</td>\n",
              "      <td>False</td>\n",
              "      <td>False</td>\n",
              "      <td>False</td>\n",
              "      <td>False</td>\n",
              "      <td>False</td>\n",
              "      <td>False</td>\n",
              "      <td>False</td>\n",
              "      <td>False</td>\n",
              "      <td>False</td>\n",
              "    </tr>\n",
              "    <tr>\n",
              "      <th>1</th>\n",
              "      <td>15.550</td>\n",
              "      <td>21.330</td>\n",
              "      <td>False</td>\n",
              "      <td>False</td>\n",
              "      <td>False</td>\n",
              "      <td>False</td>\n",
              "      <td>False</td>\n",
              "      <td>False</td>\n",
              "      <td>False</td>\n",
              "      <td>False</td>\n",
              "      <td>False</td>\n",
              "      <td>False</td>\n",
              "      <td>True</td>\n",
              "      <td>False</td>\n",
              "      <td>False</td>\n",
              "      <td>False</td>\n",
              "      <td>False</td>\n",
              "      <td>False</td>\n",
              "      <td>False</td>\n",
              "      <td>False</td>\n",
              "      <td>False</td>\n",
              "      <td>False</td>\n",
              "      <td>False</td>\n",
              "      <td>False</td>\n",
              "      <td>False</td>\n",
              "      <td>True</td>\n",
              "      <td>False</td>\n",
              "      <td>False</td>\n",
              "      <td>False</td>\n",
              "      <td>False</td>\n",
              "      <td>False</td>\n",
              "      <td>False</td>\n",
              "      <td>False</td>\n",
              "      <td>True</td>\n",
              "      <td>True</td>\n",
              "      <td>False</td>\n",
              "      <td>False</td>\n",
              "      <td>False</td>\n",
              "      <td>False</td>\n",
              "      <td>False</td>\n",
              "      <td>False</td>\n",
              "      <td>False</td>\n",
              "      <td>False</td>\n",
              "      <td>False</td>\n",
              "      <td>False</td>\n",
              "    </tr>\n",
              "    <tr>\n",
              "      <th>2</th>\n",
              "      <td>15.550</td>\n",
              "      <td>21.330</td>\n",
              "      <td>False</td>\n",
              "      <td>False</td>\n",
              "      <td>False</td>\n",
              "      <td>False</td>\n",
              "      <td>False</td>\n",
              "      <td>False</td>\n",
              "      <td>False</td>\n",
              "      <td>False</td>\n",
              "      <td>False</td>\n",
              "      <td>False</td>\n",
              "      <td>True</td>\n",
              "      <td>False</td>\n",
              "      <td>False</td>\n",
              "      <td>False</td>\n",
              "      <td>False</td>\n",
              "      <td>False</td>\n",
              "      <td>False</td>\n",
              "      <td>False</td>\n",
              "      <td>False</td>\n",
              "      <td>False</td>\n",
              "      <td>False</td>\n",
              "      <td>False</td>\n",
              "      <td>False</td>\n",
              "      <td>True</td>\n",
              "      <td>False</td>\n",
              "      <td>False</td>\n",
              "      <td>False</td>\n",
              "      <td>False</td>\n",
              "      <td>False</td>\n",
              "      <td>False</td>\n",
              "      <td>False</td>\n",
              "      <td>True</td>\n",
              "      <td>False</td>\n",
              "      <td>True</td>\n",
              "      <td>False</td>\n",
              "      <td>False</td>\n",
              "      <td>False</td>\n",
              "      <td>False</td>\n",
              "      <td>False</td>\n",
              "      <td>False</td>\n",
              "      <td>False</td>\n",
              "      <td>False</td>\n",
              "      <td>False</td>\n",
              "    </tr>\n",
              "    <tr>\n",
              "      <th>3</th>\n",
              "      <td>15.550</td>\n",
              "      <td>21.330</td>\n",
              "      <td>False</td>\n",
              "      <td>False</td>\n",
              "      <td>False</td>\n",
              "      <td>False</td>\n",
              "      <td>False</td>\n",
              "      <td>False</td>\n",
              "      <td>False</td>\n",
              "      <td>False</td>\n",
              "      <td>False</td>\n",
              "      <td>False</td>\n",
              "      <td>True</td>\n",
              "      <td>False</td>\n",
              "      <td>False</td>\n",
              "      <td>False</td>\n",
              "      <td>False</td>\n",
              "      <td>False</td>\n",
              "      <td>False</td>\n",
              "      <td>False</td>\n",
              "      <td>False</td>\n",
              "      <td>False</td>\n",
              "      <td>False</td>\n",
              "      <td>False</td>\n",
              "      <td>False</td>\n",
              "      <td>True</td>\n",
              "      <td>False</td>\n",
              "      <td>False</td>\n",
              "      <td>False</td>\n",
              "      <td>False</td>\n",
              "      <td>False</td>\n",
              "      <td>False</td>\n",
              "      <td>False</td>\n",
              "      <td>True</td>\n",
              "      <td>False</td>\n",
              "      <td>False</td>\n",
              "      <td>True</td>\n",
              "      <td>False</td>\n",
              "      <td>False</td>\n",
              "      <td>False</td>\n",
              "      <td>False</td>\n",
              "      <td>False</td>\n",
              "      <td>False</td>\n",
              "      <td>False</td>\n",
              "      <td>False</td>\n",
              "    </tr>\n",
              "    <tr>\n",
              "      <th>4</th>\n",
              "      <td>20.840</td>\n",
              "      <td>28.280</td>\n",
              "      <td>False</td>\n",
              "      <td>False</td>\n",
              "      <td>False</td>\n",
              "      <td>False</td>\n",
              "      <td>False</td>\n",
              "      <td>False</td>\n",
              "      <td>False</td>\n",
              "      <td>False</td>\n",
              "      <td>False</td>\n",
              "      <td>True</td>\n",
              "      <td>False</td>\n",
              "      <td>True</td>\n",
              "      <td>False</td>\n",
              "      <td>False</td>\n",
              "      <td>False</td>\n",
              "      <td>False</td>\n",
              "      <td>False</td>\n",
              "      <td>False</td>\n",
              "      <td>False</td>\n",
              "      <td>False</td>\n",
              "      <td>False</td>\n",
              "      <td>False</td>\n",
              "      <td>False</td>\n",
              "      <td>False</td>\n",
              "      <td>True</td>\n",
              "      <td>False</td>\n",
              "      <td>False</td>\n",
              "      <td>False</td>\n",
              "      <td>True</td>\n",
              "      <td>False</td>\n",
              "      <td>False</td>\n",
              "      <td>True</td>\n",
              "      <td>False</td>\n",
              "      <td>False</td>\n",
              "      <td>False</td>\n",
              "      <td>False</td>\n",
              "      <td>False</td>\n",
              "      <td>False</td>\n",
              "      <td>False</td>\n",
              "      <td>False</td>\n",
              "      <td>False</td>\n",
              "      <td>False</td>\n",
              "      <td>False</td>\n",
              "    </tr>\n",
              "  </tbody>\n",
              "</table>\n",
              "</div>\n",
              "    <div class=\"colab-df-buttons\">\n",
              "\n",
              "  <div class=\"colab-df-container\">\n",
              "    <button class=\"colab-df-convert\" onclick=\"convertToInteractive('df-de6cd434-c5fe-4c55-8bf0-216dda7f7a6c')\"\n",
              "            title=\"Convert this dataframe to an interactive table.\"\n",
              "            style=\"display:none;\">\n",
              "\n",
              "  <svg xmlns=\"http://www.w3.org/2000/svg\" height=\"24px\" viewBox=\"0 -960 960 960\">\n",
              "    <path d=\"M120-120v-720h720v720H120Zm60-500h600v-160H180v160Zm220 220h160v-160H400v160Zm0 220h160v-160H400v160ZM180-400h160v-160H180v160Zm440 0h160v-160H620v160ZM180-180h160v-160H180v160Zm440 0h160v-160H620v160Z\"/>\n",
              "  </svg>\n",
              "    </button>\n",
              "\n",
              "  <style>\n",
              "    .colab-df-container {\n",
              "      display:flex;\n",
              "      gap: 12px;\n",
              "    }\n",
              "\n",
              "    .colab-df-convert {\n",
              "      background-color: #E8F0FE;\n",
              "      border: none;\n",
              "      border-radius: 50%;\n",
              "      cursor: pointer;\n",
              "      display: none;\n",
              "      fill: #1967D2;\n",
              "      height: 32px;\n",
              "      padding: 0 0 0 0;\n",
              "      width: 32px;\n",
              "    }\n",
              "\n",
              "    .colab-df-convert:hover {\n",
              "      background-color: #E2EBFA;\n",
              "      box-shadow: 0px 1px 2px rgba(60, 64, 67, 0.3), 0px 1px 3px 1px rgba(60, 64, 67, 0.15);\n",
              "      fill: #174EA6;\n",
              "    }\n",
              "\n",
              "    .colab-df-buttons div {\n",
              "      margin-bottom: 4px;\n",
              "    }\n",
              "\n",
              "    [theme=dark] .colab-df-convert {\n",
              "      background-color: #3B4455;\n",
              "      fill: #D2E3FC;\n",
              "    }\n",
              "\n",
              "    [theme=dark] .colab-df-convert:hover {\n",
              "      background-color: #434B5C;\n",
              "      box-shadow: 0px 1px 3px 1px rgba(0, 0, 0, 0.15);\n",
              "      filter: drop-shadow(0px 1px 2px rgba(0, 0, 0, 0.3));\n",
              "      fill: #FFFFFF;\n",
              "    }\n",
              "  </style>\n",
              "\n",
              "    <script>\n",
              "      const buttonEl =\n",
              "        document.querySelector('#df-de6cd434-c5fe-4c55-8bf0-216dda7f7a6c button.colab-df-convert');\n",
              "      buttonEl.style.display =\n",
              "        google.colab.kernel.accessAllowed ? 'block' : 'none';\n",
              "\n",
              "      async function convertToInteractive(key) {\n",
              "        const element = document.querySelector('#df-de6cd434-c5fe-4c55-8bf0-216dda7f7a6c');\n",
              "        const dataTable =\n",
              "          await google.colab.kernel.invokeFunction('convertToInteractive',\n",
              "                                                    [key], {});\n",
              "        if (!dataTable) return;\n",
              "\n",
              "        const docLinkHtml = 'Like what you see? Visit the ' +\n",
              "          '<a target=\"_blank\" href=https://colab.research.google.com/notebooks/data_table.ipynb>data table notebook</a>'\n",
              "          + ' to learn more about interactive tables.';\n",
              "        element.innerHTML = '';\n",
              "        dataTable['output_type'] = 'display_data';\n",
              "        await google.colab.output.renderOutput(dataTable, element);\n",
              "        const docLink = document.createElement('div');\n",
              "        docLink.innerHTML = docLinkHtml;\n",
              "        element.appendChild(docLink);\n",
              "      }\n",
              "    </script>\n",
              "  </div>\n",
              "\n",
              "\n",
              "<div id=\"df-c3fa8b47-0e6d-4a50-bcd9-1f2adec98b45\">\n",
              "  <button class=\"colab-df-quickchart\" onclick=\"quickchart('df-c3fa8b47-0e6d-4a50-bcd9-1f2adec98b45')\"\n",
              "            title=\"Suggest charts\"\n",
              "            style=\"display:none;\">\n",
              "\n",
              "<svg xmlns=\"http://www.w3.org/2000/svg\" height=\"24px\"viewBox=\"0 0 24 24\"\n",
              "     width=\"24px\">\n",
              "    <g>\n",
              "        <path d=\"M19 3H5c-1.1 0-2 .9-2 2v14c0 1.1.9 2 2 2h14c1.1 0 2-.9 2-2V5c0-1.1-.9-2-2-2zM9 17H7v-7h2v7zm4 0h-2V7h2v10zm4 0h-2v-4h2v4z\"/>\n",
              "    </g>\n",
              "</svg>\n",
              "  </button>\n",
              "\n",
              "<style>\n",
              "  .colab-df-quickchart {\n",
              "      --bg-color: #E8F0FE;\n",
              "      --fill-color: #1967D2;\n",
              "      --hover-bg-color: #E2EBFA;\n",
              "      --hover-fill-color: #174EA6;\n",
              "      --disabled-fill-color: #AAA;\n",
              "      --disabled-bg-color: #DDD;\n",
              "  }\n",
              "\n",
              "  [theme=dark] .colab-df-quickchart {\n",
              "      --bg-color: #3B4455;\n",
              "      --fill-color: #D2E3FC;\n",
              "      --hover-bg-color: #434B5C;\n",
              "      --hover-fill-color: #FFFFFF;\n",
              "      --disabled-bg-color: #3B4455;\n",
              "      --disabled-fill-color: #666;\n",
              "  }\n",
              "\n",
              "  .colab-df-quickchart {\n",
              "    background-color: var(--bg-color);\n",
              "    border: none;\n",
              "    border-radius: 50%;\n",
              "    cursor: pointer;\n",
              "    display: none;\n",
              "    fill: var(--fill-color);\n",
              "    height: 32px;\n",
              "    padding: 0;\n",
              "    width: 32px;\n",
              "  }\n",
              "\n",
              "  .colab-df-quickchart:hover {\n",
              "    background-color: var(--hover-bg-color);\n",
              "    box-shadow: 0 1px 2px rgba(60, 64, 67, 0.3), 0 1px 3px 1px rgba(60, 64, 67, 0.15);\n",
              "    fill: var(--button-hover-fill-color);\n",
              "  }\n",
              "\n",
              "  .colab-df-quickchart-complete:disabled,\n",
              "  .colab-df-quickchart-complete:disabled:hover {\n",
              "    background-color: var(--disabled-bg-color);\n",
              "    fill: var(--disabled-fill-color);\n",
              "    box-shadow: none;\n",
              "  }\n",
              "\n",
              "  .colab-df-spinner {\n",
              "    border: 2px solid var(--fill-color);\n",
              "    border-color: transparent;\n",
              "    border-bottom-color: var(--fill-color);\n",
              "    animation:\n",
              "      spin 1s steps(1) infinite;\n",
              "  }\n",
              "\n",
              "  @keyframes spin {\n",
              "    0% {\n",
              "      border-color: transparent;\n",
              "      border-bottom-color: var(--fill-color);\n",
              "      border-left-color: var(--fill-color);\n",
              "    }\n",
              "    20% {\n",
              "      border-color: transparent;\n",
              "      border-left-color: var(--fill-color);\n",
              "      border-top-color: var(--fill-color);\n",
              "    }\n",
              "    30% {\n",
              "      border-color: transparent;\n",
              "      border-left-color: var(--fill-color);\n",
              "      border-top-color: var(--fill-color);\n",
              "      border-right-color: var(--fill-color);\n",
              "    }\n",
              "    40% {\n",
              "      border-color: transparent;\n",
              "      border-right-color: var(--fill-color);\n",
              "      border-top-color: var(--fill-color);\n",
              "    }\n",
              "    60% {\n",
              "      border-color: transparent;\n",
              "      border-right-color: var(--fill-color);\n",
              "    }\n",
              "    80% {\n",
              "      border-color: transparent;\n",
              "      border-right-color: var(--fill-color);\n",
              "      border-bottom-color: var(--fill-color);\n",
              "    }\n",
              "    90% {\n",
              "      border-color: transparent;\n",
              "      border-bottom-color: var(--fill-color);\n",
              "    }\n",
              "  }\n",
              "</style>\n",
              "\n",
              "  <script>\n",
              "    async function quickchart(key) {\n",
              "      const quickchartButtonEl =\n",
              "        document.querySelector('#' + key + ' button');\n",
              "      quickchartButtonEl.disabled = true;  // To prevent multiple clicks.\n",
              "      quickchartButtonEl.classList.add('colab-df-spinner');\n",
              "      try {\n",
              "        const charts = await google.colab.kernel.invokeFunction(\n",
              "            'suggestCharts', [key], {});\n",
              "      } catch (error) {\n",
              "        console.error('Error during call to suggestCharts:', error);\n",
              "      }\n",
              "      quickchartButtonEl.classList.remove('colab-df-spinner');\n",
              "      quickchartButtonEl.classList.add('colab-df-quickchart-complete');\n",
              "    }\n",
              "    (() => {\n",
              "      let quickchartButtonEl =\n",
              "        document.querySelector('#df-c3fa8b47-0e6d-4a50-bcd9-1f2adec98b45 button');\n",
              "      quickchartButtonEl.style.display =\n",
              "        google.colab.kernel.accessAllowed ? 'block' : 'none';\n",
              "    })();\n",
              "  </script>\n",
              "</div>\n",
              "\n",
              "    </div>\n",
              "  </div>\n"
            ],
            "text/plain": [
              "      Y1     Y2  X1_0.64  X1_0.66  X1_0.69  X1_0.71  X1_0.74  X1_0.76  X1_0.79  X1_0.82  X1_0.86  X1_0.9  X1_0.98  X2_563.5  X2_588.0  X2_612.5  X2_637.0  X2_661.5  X2_686.0  X2_710.5  X2_735.0  X2_759.5  X2_784.0  X2_808.5  X3_269.5  X3_294.0  X3_318.5  X3_343.0  X3_367.5  X3_416.5  X4_122.5  X4_147.0  X4_220.5  X5_7.0   X6_3   X6_4   X6_5  X7_0.1  X7_0.25  X7_0.4   X8_1   X8_2   X8_3   X8_4   X8_5\n",
              "0 15.550 21.330    False    False    False    False    False    False    False    False    False   False     True     False     False     False     False     False     False     False     False     False     False     False     False      True     False     False     False     False     False     False     False    True  False  False  False   False    False   False  False  False  False  False  False\n",
              "1 15.550 21.330    False    False    False    False    False    False    False    False    False   False     True     False     False     False     False     False     False     False     False     False     False     False     False      True     False     False     False     False     False     False     False    True   True  False  False   False    False   False  False  False  False  False  False\n",
              "2 15.550 21.330    False    False    False    False    False    False    False    False    False   False     True     False     False     False     False     False     False     False     False     False     False     False     False      True     False     False     False     False     False     False     False    True  False   True  False   False    False   False  False  False  False  False  False\n",
              "3 15.550 21.330    False    False    False    False    False    False    False    False    False   False     True     False     False     False     False     False     False     False     False     False     False     False     False      True     False     False     False     False     False     False     False    True  False  False   True   False    False   False  False  False  False  False  False\n",
              "4 20.840 28.280    False    False    False    False    False    False    False    False    False    True    False      True     False     False     False     False     False     False     False     False     False     False     False     False      True     False     False     False      True     False     False    True  False  False  False   False    False   False  False  False  False  False  False"
            ]
          },
          "execution_count": 41,
          "metadata": {},
          "output_type": "execute_result"
        }
      ],
      "source": [
        "df.head()"
      ]
    },
    {
      "cell_type": "markdown",
      "metadata": {
        "id": "-itwZwPG25Wu"
      },
      "source": [
        "**BASE** **MODEL**"
      ]
    },
    {
      "cell_type": "code",
      "execution_count": null,
      "metadata": {
        "id": "9LdZ-lDfXXkr"
      },
      "outputs": [],
      "source": [
        "def create_base_model(dataframe, target, plot=False, save_results=False):\n",
        "  names = []\n",
        "  train_rmse_results = []\n",
        "  test_rmse_results = []\n",
        "  train_r2_scores = []\n",
        "  test_r2_scores = []\n",
        "  X = dataframe.drop(target, axis=1)\n",
        "  y = dataframe[target]\n",
        "  X_train, X_test, y_train, y_test = train_test_split(X, y, test_size=0.20, random_state=17)\n",
        "  models = [('LR', LinearRegression()),\n",
        "            (\"Ridge\", Ridge()),\n",
        "            (\"Lasso\", Lasso()),\n",
        "            (\"ElasticNet\", ElasticNet()),\n",
        "            ('KNN', KNeighborsRegressor()),\n",
        "            ('CART', DecisionTreeRegressor()),\n",
        "            ('RF', RandomForestRegressor()),\n",
        "            (\"XGBoost\", XGBRegressor(objective='reg:squarederror'))]\n",
        "\n",
        "  print(\"###################### Mean and Std(Target Variable) ######################\")\n",
        "  print(\"Mean: \" , dataframe[target].mean())\n",
        "  print(\"\\n\")\n",
        "  print(\"Std: \", dataframe[target].std())\n",
        "  print(\"###################### Model Results ######################\")\n",
        "  for name, regressor in models:\n",
        "    regressor.fit(X_train, y_train)\n",
        "    y_train_pred = regressor.predict(X_train)\n",
        "    y_test_pred = regressor.predict(X_test)\n",
        "    # RMSE\n",
        "    train_rmse_result = np.sqrt(mean_squared_error(y_train, y_train_pred))\n",
        "    test_rmse_result = np.sqrt(mean_squared_error(y_test, y_test_pred))\n",
        "    train_rmse_results.append(train_rmse_result)\n",
        "    test_rmse_results.append(test_rmse_result)\n",
        "    # score\n",
        "    train_r2_score = regressor.score(X_train, y_train)\n",
        "    test_r2_score = regressor.score(X_test, y_test)\n",
        "    train_r2_scores.append(train_r2_score)\n",
        "    test_r2_scores.append(test_r2_score)\n",
        "    # Model names\n",
        "    names.append(name)\n",
        "\n",
        "  model_results = pd.DataFrame({'Model_Names': names,\n",
        "                                'RMSE_Train': train_rmse_results,\n",
        "                                'RMSE_Test': test_rmse_results,\n",
        "                                'R2_score_Train': train_r2_scores,\n",
        "                                'R2_score_Test': test_r2_scores\n",
        "                                }).set_index(\"Model_Names\")\n",
        "  model_results=model_results.sort_values(by=\"RMSE_Test\", ascending=True)\n",
        "  print(model_results)\n",
        "  if plot:\n",
        "    plt.figure(figsize=(15, 12))\n",
        "    sns.barplot(x='RMSE_Test', y=model_results.index, data=model_results, color=\"r\")\n",
        "    plt.xlabel('RMSE Values')\n",
        "    plt.ylabel('Model Names')\n",
        "    plt.title('RMSE_Test for All Models')\n",
        "    plt.show()\n",
        "\n",
        "  if save_results:\n",
        "    model_results.to_csv(\"model_results.csv\")\n",
        "\n",
        "  return model_results"
      ]
    },
    {
      "cell_type": "code",
      "execution_count": null,
      "metadata": {
        "colab": {
          "base_uri": "https://localhost:8080/",
          "height": 1000
        },
        "id": "G-tvujeZXqOc",
        "outputId": "b7748e77-aa43-4ff9-ff23-829789dbf3f2"
      },
      "outputs": [
        {
          "name": "stdout",
          "output_type": "stream",
          "text": [
            "###################### Mean and Std(Target Variable) ######################\n",
            "Mean:  Y1   22.307\n",
            "Y2   24.588\n",
            "dtype: float64\n",
            "\n",
            "\n",
            "Std:  Y1   10.090\n",
            "Y2    9.513\n",
            "dtype: float64\n",
            "###################### Model Results ######################\n",
            "             RMSE_Train  RMSE_Test  R2_score_Train  R2_score_Test\n",
            "Model_Names                                                      \n",
            "XGBoost           0.064      0.669           1.000          0.995\n",
            "Ridge             1.422      1.358           0.979          0.979\n",
            "LR                1.419      1.360           0.979          0.979\n",
            "RF                0.554      1.633           0.997          0.969\n",
            "KNN               1.817      1.963           0.966          0.958\n",
            "CART              0.000      1.966           1.000          0.956\n",
            "Lasso             4.958      4.380           0.747          0.790\n",
            "ElasticNet        6.047      5.672           0.623          0.648\n"
          ]
        },
        {
          "data": {
            "image/png": "[encoded data removed]",
            "text/plain": [
              "<Figure size 1500x1200 with 1 Axes>"
            ]
          },
          "metadata": {},
          "output_type": "display_data"
        }
      ],
      "source": [
        "model_results = create_base_model(df, target=[\"Y1\",\"Y2\"], plot=True, save_results=True)"
      ]
    },
    {
      "cell_type": "markdown",
      "metadata": {
        "id": "GEGixI2N3BX6"
      },
      "source": [
        "**MODEL** **TUNED**"
      ]
    },
    {
      "cell_type": "code",
      "execution_count": 15,
      "metadata": {
        "id": "Y0CUFwivXxdk"
      },
      "outputs": [],
      "source": [
        "def create_model_tuned(dataframe, target, plot=True, save_results=True):\n",
        "  names = []\n",
        "  train_rmse_results = []\n",
        "  test_rmse_results = []\n",
        "  train_r2_scores = []\n",
        "  test_r2_scores = []\n",
        "  best_params = []\n",
        "  X = dataframe.drop(target, axis=1)\n",
        "  y = dataframe[target]\n",
        "  X_train, X_test, y_train, y_test = train_test_split(X, y, test_size=0.20, random_state=17)\n",
        "\n",
        "  ridge_params = {\"alpha\": 10**np.linspace(10,-2,100)*0.5}\n",
        "\n",
        "  lasso_params = {\"alpha\": 10**np.linspace(10,-2,100)*0.5}\n",
        "\n",
        "  enet_params = {\"alpha\": 10**np.linspace(10,-2,100)*0.5}\n",
        "\n",
        "  knn_params = {\"n_neighbors\": np.arange(1,50,1)}\n",
        "\n",
        "  cart_params = {\"min_samples_split\": range(2,100),\n",
        "                  \"max_leaf_nodes\": range(2,10)}\n",
        "\n",
        "  xgboost_params = {\"colsample_bytree\": [0.4, 0.5 ,0.6],\n",
        "                      \"n_estimators\": [200, 500, 1000],\n",
        "                      \"max_depth\": [3,5,8],\n",
        "                      \"learning_rate\": [0.1, 0.01]}\n",
        "  rf_params = {\"max_depth\": [5, 8, 15, None],\n",
        "              \"max_features\": [5, 7, \"auto\"],\n",
        "              \"min_samples_split\": [8, 15, 20],\n",
        "              \"n_estimators\": [200, 500]}\n",
        "\n",
        "  regressors = [(\"Ridge\", Ridge(), ridge_params),\n",
        "              (\"Lasso\", Lasso(), lasso_params),\n",
        "              (\"ENet\", ElasticNet(), enet_params),\n",
        "              (\"KNN\", KNeighborsRegressor(), knn_params),\n",
        "              (\"CART\", DecisionTreeRegressor(), cart_params),\n",
        "              (\"XGBoost\", XGBRegressor(objective=\"reg:squarederror\"), xgboost_params),\n",
        "              (\"RF\", RandomForestRegressor(), rf_params)]\n",
        "  for name, regressor, params in regressors:\n",
        "    print(f\"#################### {name} ####################\")\n",
        "\n",
        "    gs_best = GridSearchCV(regressor, params, cv=3, n_jobs=-1, verbose=False).fit(X_train, y_train)\n",
        "\n",
        "    final_model = regressor.set_params(**gs_best.best_params_).fit(X_train, y_train)\n",
        "    train_rmse_result = np.mean(np.sqrt(-cross_val_score(final_model, X_train, y_train, cv=10, scoring=\"neg_mean_squared_error\")))\n",
        "    test_rmse_result = np.mean(np.sqrt(-cross_val_score(final_model, X_test, y_test, cv=10, scoring=\"neg_mean_squared_error\")))\n",
        "    train_rmse_results.append(train_rmse_result)\n",
        "    test_rmse_results.append(test_rmse_result)\n",
        "    train_r2_score = final_model.score(X_train, y_train)\n",
        "    test_r2_score = final_model.score(X_test, y_test)\n",
        "    train_r2_scores.append(train_r2_score)\n",
        "    test_r2_scores.append(test_r2_score)\n",
        "    print(f\"RMSE_Train: {round(train_rmse_result, 4)} , RMSE_Test: {round(test_rmse_result, 4)} , R2_Train: {round(train_r2_score, 3)} , R2_Test: {round(test_r2_score, 3)} (Tuned Model) ({name}) \")\n",
        "\n",
        "    print(f\"{name} best params: {gs_best.best_params_}\", end=\"\\n\\n\")\n",
        "    best_params.append(gs_best.best_params_)\n",
        "    names.append(name)\n",
        "\n",
        "  model_tuned_results = pd.DataFrame({'Model_Names': names,\n",
        "                                'RMSE_Train': train_rmse_results,\n",
        "                                'RMSE_Test': test_rmse_results,\n",
        "                                'R2_score_Train': train_r2_scores,\n",
        "                                'R2_score_Test': test_r2_scores,\n",
        "                                \"best_params\": best_params\n",
        "                                }).set_index(\"Model_Names\")\n",
        "  model_tuned_results=model_tuned_results.sort_values(by=\"RMSE_Test\", ascending=True)\n",
        "  print(model_tuned_results)\n",
        "  if plot:\n",
        "    plt.figure(figsize=(15, 12))\n",
        "    sns.barplot(x='RMSE_Test', y=model_tuned_results.index, data=model_tuned_results, color=\"r\")\n",
        "    plt.xlabel('RMSE Values')\n",
        "    plt.ylabel('Model Names')\n",
        "    plt.title('RMSE_Test for All Models')\n",
        "    plt.show()\n",
        "\n",
        "  if save_results:\n",
        "    model_tuned_results.to_csv(\"model_tuned_results.csv\")\n",
        "\n",
        "  return model_tuned_results\n"
      ]
    },
    {
      "cell_type": "code",
      "execution_count": 16,
      "metadata": {
        "colab": {
          "base_uri": "https://localhost:8080/",
          "height": 1000
        },
        "id": "Xvu8wFkyYCqM",
        "outputId": "7cdd7091-88d1-4541-e697-d0132f0f0b63"
      },
      "outputs": [
        {
          "output_type": "stream",
          "name": "stdout",
          "text": [
            "#################### Ridge ####################\n",
            "RMSE_Train: 3.1166 , RMSE_Test: 2.9684 , R2_Train: 0.901 , R2_Test: 0.904 (Tuned Model) (Ridge) \n",
            "Ridge best params: {'alpha': np.float64(0.005)}\n",
            "\n",
            "#################### Lasso ####################\n",
            "RMSE_Train: 3.1536 , RMSE_Test: 3.0065 , R2_Train: 0.899 , R2_Test: 0.901 (Tuned Model) (Lasso) \n",
            "Lasso best params: {'alpha': np.float64(0.005)}\n",
            "\n",
            "#################### ENet ####################\n",
            "RMSE_Train: 3.2023 , RMSE_Test: 3.0592 , R2_Train: 0.896 , R2_Test: 0.899 (Tuned Model) (ENet) \n",
            "ENet best params: {'alpha': np.float64(0.005)}\n",
            "\n",
            "#################### KNN ####################\n",
            "RMSE_Train: 2.0854 , RMSE_Test: 2.477 , R2_Train: 0.971 , R2_Test: 0.958 (Tuned Model) (KNN) \n",
            "KNN best params: {'n_neighbors': np.int64(3)}\n",
            "\n",
            "#################### CART ####################\n",
            "RMSE_Train: 2.4657 , RMSE_Test: 2.981 , R2_Train: 0.94 , R2_Test: 0.948 (Tuned Model) (CART) \n",
            "CART best params: {'max_leaf_nodes': 9, 'min_samples_split': 56}\n",
            "\n",
            "#################### XGBoost ####################\n",
            "RMSE_Train: 0.5999 , RMSE_Test: 1.4291 , R2_Train: 1.0 , R2_Test: 0.996 (Tuned Model) (XGBoost) \n",
            "XGBoost best params: {'colsample_bytree': 0.5, 'learning_rate': 0.1, 'max_depth': 5, 'n_estimators': 1000}\n",
            "\n",
            "#################### RF ####################\n"
          ]
        },
        {
          "output_type": "stream",
          "name": "stderr",
          "text": [
            "/usr/local/lib/python3.11/dist-packages/sklearn/model_selection/_validation.py:528: FitFailedWarning: \n",
            "72 fits failed out of a total of 216.\n",
            "The score on these train-test partitions for these parameters will be set to nan.\n",
            "If these failures are not expected, you can try to debug them by setting error_score='raise'.\n",
            "\n",
            "Below are more details about the failures:\n",
            "--------------------------------------------------------------------------------\n",
            "54 fits failed with the following error:\n",
            "Traceback (most recent call last):\n",
            "  File \"/usr/local/lib/python3.11/dist-packages/sklearn/model_selection/_validation.py\", line 866, in _fit_and_score\n",
            "    estimator.fit(X_train, y_train, **fit_params)\n",
            "  File \"/usr/local/lib/python3.11/dist-packages/sklearn/base.py\", line 1382, in wrapper\n",
            "    estimator._validate_params()\n",
            "  File \"/usr/local/lib/python3.11/dist-packages/sklearn/base.py\", line 436, in _validate_params\n",
            "    validate_parameter_constraints(\n",
            "  File \"/usr/local/lib/python3.11/dist-packages/sklearn/utils/_param_validation.py\", line 98, in validate_parameter_constraints\n",
            "    raise InvalidParameterError(\n",
            "sklearn.utils._param_validation.InvalidParameterError: The 'max_features' parameter of RandomForestRegressor must be an int in the range [1, inf), a float in the range (0.0, 1.0], a str among {'sqrt', 'log2'} or None. Got 'auto' instead.\n",
            "\n",
            "--------------------------------------------------------------------------------\n",
            "18 fits failed with the following error:\n",
            "Traceback (most recent call last):\n",
            "  File \"/usr/local/lib/python3.11/dist-packages/sklearn/model_selection/_validation.py\", line 866, in _fit_and_score\n",
            "    estimator.fit(X_train, y_train, **fit_params)\n",
            "  File \"/usr/local/lib/python3.11/dist-packages/sklearn/base.py\", line 1382, in wrapper\n",
            "    estimator._validate_params()\n",
            "  File \"/usr/local/lib/python3.11/dist-packages/sklearn/base.py\", line 436, in _validate_params\n",
            "    validate_parameter_constraints(\n",
            "  File \"/usr/local/lib/python3.11/dist-packages/sklearn/utils/_param_validation.py\", line 98, in validate_parameter_constraints\n",
            "    raise InvalidParameterError(\n",
            "sklearn.utils._param_validation.InvalidParameterError: The 'max_features' parameter of RandomForestRegressor must be an int in the range [1, inf), a float in the range (0.0, 1.0], a str among {'log2', 'sqrt'} or None. Got 'auto' instead.\n",
            "\n",
            "  warnings.warn(some_fits_failed_message, FitFailedWarning)\n",
            "/usr/local/lib/python3.11/dist-packages/sklearn/model_selection/_search.py:1108: UserWarning: One or more of the test scores are non-finite: [0.97456331 0.97503061 0.97289167 0.97302984 0.97075933 0.97090627\n",
            " 0.9756971  0.97569479 0.97261098 0.97248155 0.97025282 0.9701434\n",
            "        nan        nan        nan        nan        nan        nan\n",
            " 0.97994541 0.98019822 0.97745072 0.97751668 0.97383548 0.97411353\n",
            " 0.9796312  0.97972455 0.97699748 0.97719881 0.97255506 0.97325577\n",
            "        nan        nan        nan        nan        nan        nan\n",
            " 0.98018402 0.98012691 0.9771445  0.97741722 0.97397666 0.97394791\n",
            " 0.97979845 0.97969356 0.97701878 0.97691038 0.97315405 0.97298287\n",
            "        nan        nan        nan        nan        nan        nan\n",
            " 0.98002975 0.98013773 0.9776251  0.97767884 0.9741753  0.97394035\n",
            " 0.97966129 0.9795912  0.97681836 0.9773694  0.97288931 0.97321156\n",
            "        nan        nan        nan        nan        nan        nan]\n",
            "  warnings.warn(\n"
          ]
        },
        {
          "output_type": "stream",
          "name": "stdout",
          "text": [
            "RMSE_Train: 1.3304 , RMSE_Test: 1.6796 , R2_Train: 0.988 , R2_Test: 0.977 (Tuned Model) (RF) \n",
            "RF best params: {'max_depth': 8, 'max_features': 5, 'min_samples_split': 8, 'n_estimators': 500}\n",
            "\n",
            "             RMSE_Train  RMSE_Test  R2_score_Train  R2_score_Test                                        best_params\n",
            "Model_Names                                                                                                         \n",
            "XGBoost           0.600      1.429           1.000          0.996  {'colsample_bytree': 0.5, 'learning_rate': 0.1...\n",
            "RF                1.330      1.680           0.988          0.977  {'max_depth': 8, 'max_features': 5, 'min_sampl...\n",
            "KNN               2.085      2.477           0.971          0.958                                 {'n_neighbors': 3}\n",
            "Ridge             3.117      2.968           0.901          0.904                                   {'alpha': 0.005}\n",
            "CART              2.466      2.981           0.940          0.948     {'max_leaf_nodes': 9, 'min_samples_split': 56}\n",
            "Lasso             3.154      3.006           0.899          0.901                                   {'alpha': 0.005}\n",
            "ENet              3.202      3.059           0.896          0.899                                   {'alpha': 0.005}\n"
          ]
        },
        {
          "output_type": "display_data",
          "data": {
            "text/plain": [
              "<Figure size 1500x1200 with 1 Axes>"
            ],
            "image/png": "[encoded data removed]"
          },
          "metadata": {}
        }
      ],
      "source": [
        "# Execute the cell that defines the create_model_tuned function first.\n",
        "# Then execute the cell below.\n",
        "model_tuned_results = create_model_tuned(df, [\"Y1\",\"Y2\"], plot=True, save_results=True)"
      ]
    }
  ],
  "metadata": {
    "colab": {
      "provenance": []
    },
    "kernelspec": {
      "display_name": "Python 3",
      "name": "python3"
    },
    "language_info": {
      "name": "python"
    }
  },
  "nbformat": 4,
  "nbformat_minor": 0
}